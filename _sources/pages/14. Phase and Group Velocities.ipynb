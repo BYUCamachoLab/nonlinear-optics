{
 "cells": [
  {
   "attachments": {},
   "cell_type": "markdown",
   "metadata": {},
   "source": [
    "# Phase and Group Velocities\n",
    "\n",
    "**Name:**\n",
    "\n",
    "**Total Points:** --/100 pts"
   ]
  },
  {
   "cell_type": "code",
   "execution_count": null,
   "metadata": {},
   "outputs": [],
   "source": [
    "### UNCOMMENT AND RUN THIS CELL IF USING GOOGLE COLAB\n",
    "# !pip install ipympl -q\n",
    "# from google.colab import output\n",
    "# output.enable_custom_widget_manager()"
   ]
  },
  {
   "cell_type": "markdown",
   "metadata": {},
   "source": [
    "\n",
    "Until now, we've mostly considered nonlinear interactions with continuous wave (CW) light. In this notebook we study some of the characteristics of pulses of light in preparation for studing nonlinear interactions with ultrashort pulses.\n",
    "\n",
    "The main characteristic we need to study is dispersion, which is actually a *linear* effect, but has consequences on the propogation of pulses of light.  We have already seen the consequences of dispersion in phase matching.  \n",
    "\n",
    "Dispersion results when different frequencies of light travel at different speeds in a material.  This results in the familiar dispersive properties of prisms, but also has important consequences for the time-dependent nature of light.  Consider for example a light wave made up of two sinusoidal plane waves $E_1$ and $E_2$:\n",
    "\n",
    "$$\n",
    "\\begin{align}\n",
    "E_1 = Ee^{j\\left[(k + \\Delta k/2)z - (\\omega + \\Delta \\omega/2)t \\right]}  \\\\\n",
    "E_2 = Ee^{j\\left[(k - \\Delta k/2)z - (\\omega - \\Delta \\omega/2)t \\right]}\n",
    "\\end{align}\n",
    "$$\n",
    "\n",
    "We can visualize these wave propogating in a material in which each wave propagates with a different speed.\n"
   ]
  },
  {
   "cell_type": "code",
   "execution_count": null,
   "metadata": {},
   "outputs": [],
   "source": [
    "import numpy as np\n",
    "import matplotlib.pyplot as plt\n",
    "import ipywidgets as ipw\n",
    "from scipy.constants import *\n",
    "%matplotlib widget\n",
    "\n",
    "\n",
    "def update(t = 0):\n",
    "    E1 = np.sin((k+dk/2)*z - (omega+domega/2)*t) - 2\n",
    "    E2 = np.sin((k-dk/2)*z - (omega-domega/2)*t)\n",
    "    Esum = E1 + E2 + 6\n",
    "    line0.set_ydata(E1) \n",
    "    line1.set_ydata(E2) \n",
    "    line2.set_ydata(Esum) \n",
    "\n",
    "\n",
    "dlambda = 0.03 # microns   \n",
    "lam1 = 1.5 # microns\n",
    "lam2 = lam1 + dlambda\n",
    "\n",
    "omega1 = 2*pi*c/lam1*1e-9  # rad/ns\n",
    "omega2 = 2*pi*c/lam2*1e-9  #rad/ns\n",
    "omega = (omega1+omega2)/2\n",
    "domega = omega1-omega2\n",
    "    \n",
    "\n",
    "n1 = 1\n",
    "n2 = 1.1\n",
    "\n",
    "\n",
    "k1 = 2*pi*n1/lam1\n",
    "k2 = 2*pi*n2/lam2\n",
    "k = (k1+k2)/2\n",
    "dk = k2-k1\n",
    "\n",
    "Lam = 2*pi/k1\n",
    "\n",
    "z = np.linspace(0, 20*Lam, 1000)\n",
    "\n",
    "fig, ax = plt.subplots()\n",
    "dummy_E = np.zeros_like(z)\n",
    "line0, = ax.plot(z, dummy_E, label = 'E_1', color = 'blue')\n",
    "line1, = ax.plot(z, dummy_E, label = 'E_2', color = 'red')\n",
    "line2, = ax.plot(z, dummy_E, label = 'E_sum', color = 'purple')\n",
    "#ax.plot(N, p2)\n",
    "\n",
    "ax.set_xlabel('z [$\\mu$m]')\n",
    "ax.set_ylim(-4.1, 8.1)\n",
    "\n",
    "T = 2*pi/omega1 # ns\n",
    "ipw.interact(update, t = (0, 20*T, 0.001*T ))\n",
    "\n",
    "#plt.plot(z,I2)\n",
    "plt.show()"
   ]
  },
  {
   "cell_type": "code",
   "execution_count": null,
   "metadata": {},
   "outputs": [],
   "source": [
    "#print phase and group velocities\n",
    "print(omega/k)\n",
    "print(domega/dk)"
   ]
  },
  {
   "attachments": {},
   "cell_type": "markdown",
   "metadata": {},
   "source": [
    "The speed at which the two individual waves propagate is called the *phase* velocity.  the speed at which teh envelope propagates is called the *group* velocity.  Mathematically, we can write the phase velocity for any one wave as\n",
    "\n",
    "$$\n",
    "\\begin{align}\n",
    "v_p = \\frac{\\omega}{k}\n",
    "\\end{align}\n",
    "$$\n",
    "\n",
    "What about the sum of the waves? Well, we can write their sum as\n",
    "\n",
    "$$\n",
    "\\begin{align}\n",
    "E_{sum} &= E_1+E_2  \\\\\n",
    "        &= Ee^{j(kz - \\omega t)}e^{j(\\Delta kz - \\Delta \\omega t)}\n",
    "\\end{align}\n",
    "$$\n",
    "\n",
    "which clearly shows an evelope with velocity $\\Delta \\omega / \\Delta k$.  In general, the velocity of the envelope, or group velocity, is equal to\n",
    "\n",
    "$$\n",
    "\\begin{align}\n",
    "v_g = \\frac{d\\omega}{dk}\n",
    "\\end{align}\n",
    "$$"
   ]
  },
  {
   "cell_type": "markdown",
   "metadata": {},
   "source": [
    "What if we have many waves?  Let's try the animation again, but include many more frequency components.\n",
    "\n"
   ]
  },
  {
   "cell_type": "code",
   "execution_count": null,
   "metadata": {},
   "outputs": [],
   "source": [
    "import ipywidgets as ipw\n",
    "%matplotlib widget\n",
    "\n",
    "def update(t = 0):\n",
    "    for m in range(N):\n",
    "        E[m] = np.sin((k[m])*z - (omega[m]*t)) \n",
    "        line[m].set_ydata(E[m]- 2*m)\n",
    "    E_sum = np.sum(E,0) + 2*m\n",
    "    line[m+1].set_ydata(E_sum)\n",
    "\n",
    "\n",
    "N = 5    \n",
    "dlam = 0.03 # microns   \n",
    "lam1 = 1.5 # microns\n",
    "lam2 = lam1 + (N)*dlam\n",
    "lam = np.arange(lam1, lam2, dlam)\n",
    "omega = 2*pi*c/lam*1e-9  # rad/ns\n",
    "\n",
    "n1 = 1\n",
    "dn = 0.1\n",
    "n2 = n1 + (N)*dn\n",
    "n = np.arange(n1, n2, dn)\n",
    "\n",
    "k = 2*pi*n/lam\n",
    "\n",
    "\n",
    "Lam = 2*pi/k[0]\n",
    "\n",
    "z = np.linspace(0, 20*Lam, 1000)\n",
    "\n",
    "fig, ax = plt.subplots()\n",
    "dummy_E = np.zeros_like(z)\n",
    "E = [None]*N                    \n",
    "\n",
    "line = [None]*(N+1)\n",
    "for m in range(N+1):\n",
    "    line[m], = ax.plot(z, dummy_E)\n",
    "\n",
    "#ax.plot(N, p2)\n",
    "\n",
    "ax.set_xlabel('z [$\\mu$m]')\n",
    "ax.set_ylim(-2*m - 1, 2*m + N)\n",
    "\n",
    "T = 2*pi/omega[0] # ns\n",
    "ipw.interact(update, t = (0, 20*T, 0.001*T ))\n",
    "\n",
    "#plt.plot(z,I2)\n",
    "plt.show()"
   ]
  },
  {
   "attachments": {},
   "cell_type": "markdown",
   "metadata": {},
   "source": [
    "## Exercises\n",
    "\n",
    "1. (100 pts) Design a simulation with N individuals waves spaced equally in frequency all propagating in the same medium, but with different amplitudes.  Choose the amplitude distribution of the waves to be a gaussian with a peak value of 1 centered around thed mean frequency component.  Create a function n that allows you to set the frequency-dependent refractive index to a 4-th order polynomial function of your choosing i.e. $n(\\lambda) = A\\lambda^3 + B\\lambda^2 + C\\lambda + D$.  Find values of A, B, C, D that give phase velocity twice as fast as the group velocity, and verify your solution."
   ]
  },
  {
   "cell_type": "markdown",
   "metadata": {},
   "source": []
  }
 ],
 "metadata": {
  "kernelspec": {
   "display_name": "Python 3.10.8 ('nonlinoptics')",
   "language": "python",
   "name": "python3"
  },
  "language_info": {
   "codemirror_mode": {
    "name": "ipython",
    "version": 3
   },
   "file_extension": ".py",
   "mimetype": "text/x-python",
   "name": "python",
   "nbconvert_exporter": "python",
   "pygments_lexer": "ipython3",
   "version": "3.10.8"
  },
  "vscode": {
   "interpreter": {
    "hash": "32cef8dac44ce10285751f87f400ad1c7333d839691ab02151c07fc201603a42"
   }
  }
 },
 "nbformat": 4,
 "nbformat_minor": 4
}
