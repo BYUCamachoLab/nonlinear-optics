{
 "cells": [
  {
   "attachments": {},
   "cell_type": "markdown",
   "metadata": {},
   "source": [
    "(lectures:atomic-polarizability)=\n",
    "# Atoms in external electric fields\n",
    "\n",
    "Name:\n",
    "\n",
    "Total Points: ( --/100 pts)\n",
    "\n",
    "## Atomic polarizability\n",
    "A neutral atom contains an equal number of positive and negative charges.  The positve charges are protons in the nucleus of the atom, and the negative charges are electrons orbiting the nucleus.  In the absence of any external electromagnetic forces, the electrons orbit the nucleus in such a way that the center of charge of the electrons is at the same location as the center of charge of the nucleus.   In reality, quantum mechanics tells us that electrons and protons do not have fixed positions, but consist of quantum mechanical wavefunctions.  Protons, because of their higher mass, are much more localized than electrons, which form a \"cloud\" around the nucleus.\n",
    "\n",
    "When an external field is applied, the electrons and protons are pushed in opposite directions, leading to a dipole moment:\n",
    "\n",
    "<div>\n",
    "<img src=\"attachment:fig1.1.png\" width=\"400px\"/>\n",
    "</div>\n",
    "\n",
    "\n",
    "The dipole moment can be expressed mathematically as\n",
    "\\begin{align}\n",
    "\\mathbf{p}=qr\n",
    "\\end{align}\n",
    "\n",
    "where $q$ is the electric charge and $r$ is the shifted position of the electron wave function relative to the nucleus. An extremely important quantity in nonlinear optics is the dipole moment per unit volume, or polarization $\\mathbf{P}$ of the material.  If a materials has a high polarization, it has many atoms with dipole moments close to one another.\n",
    "\n",
    "In linear optics, the relative positions of the nucleus and the electron $r$ varies *linearly* with the strength of the electric field. If you apply a field twice as strong, the center of the electronic wavefunction moves twice as far away from the nucleus.  This leads to a linear relationship between the dipole moment and the applied electric field:\n",
    "\n",
    "\\begin{align}\n",
    "\\mathbf{p}=\\alpha\\mathbf{E}_{ext}\n",
    "\\end{align}\n",
    "\n",
    "where $\\alpha$ is know as the linear polarizability of the atom. In nonlinear optics, we study situations in which the relative positions of the nucleus and the electrons vary *nonlinearly* with the strength of the applied field.  \n"
   ]
  },
  {
   "attachments": {},
   "cell_type": "markdown",
   "metadata": {},
   "source": [
    "## Magnitude of displacement: Linear Approximation\n",
    "\n",
    "So how large is the displacement of the nucleus relative to the electric cloud when an electric field is applied? Let's make an approximation to get an estimate. If we assume a spherically uniform distribution of total electron charge $q$ over a radius of $R$, the charge density  will be equal to \n",
    "\n",
    "$$\n",
    "\\begin{align}\n",
    "\\rho = \\frac{q}{\\frac{4}{3}\\pi R^3}  \n",
    "\\end{align}\n",
    "$$\n",
    "\n",
    "This electron charge distribution will create an electric field inside its interior equal to (using Gauss's law):\n",
    "\n",
    "$$\n",
    "\\begin{align}\n",
    "\\mathbf{E}_{cloud}(r) = \\frac{1}{4\\pi\\epsilon_0}\\frac{qr}{R^3}\n",
    "\\end{align}\n",
    "$$\n",
    "\n",
    "where $r$ is the position relative to the center of the sphere. Notice that this electric field is *linear* in $r$.  That means that the nucleus will feel a restoring force proportional to its displacement, just like a mass on a spring.   \n",
    "\n",
    "Suppose that as a result of the external field, the nucleus moves by an amount $d$ with respect to the center of the electron cloud.  The nucleus will feel a restoring force from the electric force from the cloud equal to\n",
    "\n",
    "$$\n",
    "\\begin{align}\n",
    "\\mathbf{F}_{cloud} = q\\mathbf{E}_{cloud}(d) = \\frac{1}{4\\pi\\epsilon_0}\\frac{q^2d}{R^3}\n",
    "\\end{align}\n",
    "$$\n",
    "\n",
    "In equlibrium, this force $\\mathbf{F}_{cloud}$ is equal to the force applied by the external field $q\\mathbf{E}_{ext}$.  So we have\n",
    "\n",
    "$$\n",
    "\\begin{align}\n",
    "q\\mathbf{E}_{ext} = \\frac{1}{4\\pi\\epsilon_0}\\frac{q^2d}{R^3}\n",
    "\\end{align}\n",
    "$$\n",
    "\n",
    "and therefore\n",
    "\n",
    "$$\n",
    "\\begin{align}\n",
    "d = \\frac{4\\pi\\epsilon_0R^3}{q} \\mathbf{E}_{ext} \n",
    "\\end{align}\n",
    "$$\n",
    "\n",
    "and the electronic polarizability is\n",
    "\n",
    "$$\n",
    "\\begin{align}\n",
    "\\alpha = qd/\\mathbf{E}_{ext} = 4\\pi\\epsilon_0R^3\n",
    "\\end{align}\n",
    "$$\n",
    "\n",
    "Real atoms of course do not have perfectly spherical charge distributions, but this approximation yields polarizabilities that are quite close to measured values for many atoms.  Using this approximation, let's calculate the linear polarizability of an oxygen atom and get an order of magnitude estimate of the displacement of the electron cloud when an external field is applied:"
   ]
  },
  {
   "cell_type": "code",
   "execution_count": null,
   "metadata": {},
   "outputs": [],
   "source": [
    "#Import python packages we'll use\n",
    "import numpy as np  #import NumPy package.  Did you know Travis Oliphant, former BYU ECE faculty, wrote NumPy? \n",
    "from scipy.constants import *  #get physical constants like pi and c\n",
    "import matplotlib as mpl  #plotting package\n",
    "import matplotlib.pyplot as plt\n",
    "#mpl.rc('text', usetex = True)\n",
    "#%matplotlib inline\n",
    "%matplotlib notebook\n",
    "#mpl.rcParams['figure.figsize'] = (10,5)"
   ]
  },
  {
   "cell_type": "code",
   "execution_count": null,
   "metadata": {},
   "outputs": [],
   "source": [
    "#Calculate electronic polarizibility using spherical electron shell approximation.\n",
    "E = 1e4 # [V/m] external electric field magnitude\n",
    "Z_Ox = 8 # oxygen atomic number\n",
    "R_Ox = 100e-12 # effective atomic radius of Ox atom.  Actual size I looked up is 48 pm.\n",
    "d = 4*pi*epsilon_0*R_Ox**3/(e*Z_Ox)*E\n",
    "alpha_calc = 4*pi*epsilon_0*R_Ox**3 #calculated polarizability\n",
    "alpha_calc_cgs = R_Ox**3*1e6*1e24 #change to cgs units (most common unit in tables)\n",
    "alpha_Ox_measured_cgs = 1.31 # 1.31 A^3 in cgs units (value I looked up for Oxygen)\n",
    "\n",
    "print('Calculated polarizability: {:4.2f}, Measured polarizability: {:4.2f}'.format(alpha_calc_cgs, alpha_Ox_measured_cgs ))\n",
    "print('Displacement with external electric field of E = {:.2e} V/m is d = {:.2e} m'.format(E, d)) "
   ]
  },
  {
   "cell_type": "markdown",
   "metadata": {},
   "source": [
    "So with an applied field of $10^4$ V/m in our approximate linear model, the electron cloud (uniform sphere!)  is only displaced about $10^{-18}$ m. Compared to the atomic radius of approximately $10^{-10}$ m, this dispacement is very small.  Like ridiculously small, which is why early researchers (pre-1950's) were not very optimistic about nonlinear optics.  The invention of the laser changed all that...but more on that later.  "
   ]
  },
  {
   "attachments": {},
   "cell_type": "markdown",
   "metadata": {},
   "source": [
    "## Exercises\n",
    "1. (30 pts) Calculate the electronic polarizibility of Hydrogen using the spherical, uniform electron cloud approximation.  Compare with measured values.  You'll have to look them up using Google and/or the database of your choice. "
   ]
  },
  {
   "cell_type": "markdown",
   "metadata": {},
   "source": [
    "Unlike our approximate model, real atoms don't have a perfectly spherical charge distribution. Hence, we'd expect some nonlinear displacement if we apply a high enough external field.  Let's do a calculation using the actual shape of the electron cloud for the simplest atom: Hydrogen.  It turns out that hydrogen gives us a pretty good estimate to how many materials behave. "
   ]
  },
  {
   "attachments": {},
   "cell_type": "markdown",
   "metadata": {},
   "source": [
    "## Magnitude of displacement: Hydrogen Atom\n",
    "\n",
    "The actual radial charge distribution $\\rho(r)$ of an electron is proportional to the square of the quantum mechanical wavefunction describing the charge.  For an electron in the Hydrogen 1s state, the wavefunction $\\psi(r)$ and its square $|\\psi(r)|^2$ are:\n",
    "\n",
    "$$\n",
    "\\psi(r)=\\frac{1}{\\sqrt{\\pi}a_0^{3/2}}e^{-r/a_0}\n",
    "$$\n",
    "\n",
    "$$\n",
    "\\rho(r) = e|\\psi(r)|^2=\\frac{e}{\\pi a_0^3}e^{-2r/a_0}\n",
    "$$\n",
    "\n",
    "where $e$ is the electron charge and $a_0 = 53.92$ pm is the Bohr radius.  \n",
    "\n",
    "The probability $P(r)$ of finding the electron in a shell of thickness $dr$ at a distance $r$ from the nucleus is given by\n",
    "\n",
    "$$\n",
    "P(r)dr = 4\\pi r^2 |\\psi(r)|^2 dr \n",
    "$$\n",
    "\n",
    "Let's plot this:"
   ]
  },
  {
   "cell_type": "code",
   "execution_count": null,
   "metadata": {},
   "outputs": [],
   "source": [
    "#set up equations for quantum mechanical electron distribution \n",
    "a0 = physical_constants[\"Bohr radius\"][0]  #get Bohr radius from scipy \n",
    "r0 = 1e-5*a0 #set min radial coordinate.  A little more than 0 to avoid dividing by zero\n",
    "rf = 6*a0 #set max radial coordinate\n",
    "N=1000 #number of points in r array\n",
    "dr = (rf - r0)/(N) #dr step size\n",
    "r = np.arange(r0,rf,dr) #radial coordinate array\n",
    "Z = 1 # atomic number \n",
    "psi = 1/np.sqrt(pi)*(Z/a0)**(3/2)*np.exp(-Z*np.abs(r)/a0) #electron density wavefunction\n",
    "P = 4*pi*r**2*np.abs(psi)**2*dr # radial probability distribution"
   ]
  },
  {
   "cell_type": "code",
   "execution_count": null,
   "metadata": {},
   "outputs": [],
   "source": [
    "# plot quantum mechanical electron distribution \n",
    "fig, ax = plt.subplots()\n",
    "\n",
    "ax.plot(r/1e-12,psi**2/np.max(psi**2),label=r'$|\\psi(r)|^2$', color='blue') #plot electron density as a function of radial coordinate\n",
    "ax.plot(r/1e-12,P/np.max(P), label = r'$P(r)dr$', color='red') #plot radial distribution function\n",
    "ax.vlines(a0/1e-12, 0, 1.1, colors='k', linestyles='dashed', linewidth=1, label=r'$a_0$ = {:.2f} pm'.format(a0/1e-12))\n",
    "\n",
    "plt.title(r'Hydrogen 1s radial electron density')\n",
    "plt.xlabel('Distance [pm]')\n",
    "plt.legend()\n",
    "plt.show()"
   ]
  },
  {
   "cell_type": "markdown",
   "metadata": {},
   "source": [
    "Notice that the most *likely* place to find the electron is the Bohr radius $a_0$ at about 53 pm from the nucleus.  If we like, we can visualize the charge and probability distribution in 2D as an electron cloud:"
   ]
  },
  {
   "cell_type": "code",
   "execution_count": null,
   "metadata": {},
   "outputs": [],
   "source": [
    "# 2D visualization of actual quantum mechanical electron charge distribution \n",
    "\n",
    "a0=1  #let's use distance units of a_0 for the plot\n",
    "r0 = -3*a0 #set min radial coordinate\n",
    "rf = 3*a0 #set max radial coordinate\n",
    "\n",
    "\n",
    "# function to calculate electron wavefunction\n",
    "def psi(x, y):\n",
    "    r = np.sqrt(x**2 + y**2)\n",
    "    return 1/np.sqrt(pi)*(Z/a0)**(3/2)*np.exp(-Z*r/a0)\n",
    "\n",
    "#function to calculate radial probability distribution\n",
    "def rad_dist(x, y):\n",
    "    r = np.sqrt(x**2 + y**2)\n",
    "    return 4*pi*r**2*np.abs(psi(x,y))**2\n",
    "\n",
    "x = np.linspace(r0, rf, 100)\n",
    "y = np.linspace(r0, rf, 100)\n",
    "\n",
    "X, Y = np.meshgrid(x, y)\n",
    "Zpsi = psi(X, Y)\n",
    "ZD = rad_dist(X, Y)\n",
    "\n",
    "\n",
    "cmap1 = plt.cm.Blues\n",
    "cmap2 = plt.cm.Reds\n",
    "fig, [ax1,ax2] = plt.subplots(nrows=1, ncols=2)\n",
    "impsi = ax1.imshow(Zpsi, interpolation='bilinear', cmap=cmap1,\n",
    "               origin='lower', extent=[r0,rf,r0,rf],\n",
    "               vmax=abs(Zpsi).max(), vmin=0)\n",
    "ax1.set_xlabel(r'distance in units of $a_0$')\n",
    "ax1.set_title(r'charge distribution $\\rho(r)$')\n",
    "\n",
    "imD = ax2.imshow(ZD, interpolation='bilinear', cmap=cmap2,\n",
    "               origin='lower', extent=[r0,rf,r0,rf],\n",
    "               vmax=abs(ZD).max(), vmin=0)\n",
    "ax2.set_xlabel(r'distance in units of $a_0$')\n",
    "ax2.set_title(r'radial probability distribution $4\\pi r^2 \\rho(r)$')\n",
    "plt.show()\n"
   ]
  },
  {
   "attachments": {},
   "cell_type": "markdown",
   "metadata": {},
   "source": [
    "## Exercises\n",
    "1. (20 pts) What fraction of the electron charge is within a Bohr radius in Hydrogen?  Does this mean our approximate model is really bad?  Why or why not?\n",
    "2. (20 pts) What fraction of the electron charge is inside the nucleus?  Assume a nuclear radius is the diameter of a proton.  Is physics broken if we just showed that the electron has some probability of being found *inside* the nucleus?"
   ]
  },
  {
   "attachments": {},
   "cell_type": "markdown",
   "metadata": {},
   "source": [
    "In order to calculate the restoring force, and hence potential energy of the electron as a function of position, we need to find the electric field resulting from this charge distribution.  To do this we again use Gauss's law, just like in the spherical approximation:\n",
    "\n",
    "$$\n",
    "\\begin{align}\n",
    "\\int_S \\mathbf{E}\\cdot \\mathbf{dA} = \\frac{Q_{enc}}{\\epsilon_0} \n",
    "\\end{align}\n",
    "$$\n",
    "\n",
    "Since the 1s state in Hydrogen is radially symmetric, we may find the electric field at any distance $r$:\n",
    "\n",
    "$$\n",
    "\\begin{align}\n",
    "E(r) &= \\frac{Q_{enc}}{4\\pi r^2 \\epsilon_0} \\nonumber \\\\\n",
    "     &= \\frac{1}{4\\pi r^2 \\epsilon_0}\\int_0^r 4\\pi x^2\\rho(x)dx \\nonumber \\\\\n",
    "     &= \\frac{e}{\\pi r^2 \\epsilon_0 a_0^3}\\int_0^r x^2e^{-2x/a_0}dx  \\nonumber \\\\ \n",
    "     &= \\frac{-e}{4\\pi r^2\\epsilon_0 a_0^2}e^{-2r/a_0}\\left(a_0^2 + 2a_0r + 2r^2\\right) + \\frac{e}{4\\pi\\epsilon_0 r^2} \\nonumber \\\\\n",
    "     &= \\frac{e}{4\\pi\\epsilon_0 r^2} \\left[ 1 - e^{-2r/a_0}\\left(1 + 2r/a_0 + 2(r/a_0)^2\\right) \\right]\n",
    "\\end{align}\n",
    "$$\n",
    "\n",
    "That integral wasn't too bad,  but we should note that we have Python at our disposal (the whole point of doing this course in Python!), so we can just let Python do the work and numerically integrate.  Let's do that and compare to the analytic expressions for the enclosed charge and electric field: \n"
   ]
  },
  {
   "cell_type": "code",
   "execution_count": null,
   "metadata": {},
   "outputs": [],
   "source": [
    "# Write down expressions for enclosed charge as a function of radius and resulting electric field.\n",
    "a0 = physical_constants[\"Bohr radius\"][0]  #get Bohr radius from scipy \n",
    "r0 = 1e-6*a0 #set min radial coordinate\n",
    "rf = 5*a0 #set max radial coordinate\n",
    "N=1000 #number of points in r array\n",
    "dr = (rf - r0)/(N) #dr step size\n",
    "r = np.arange(r0,rf,dr) #radial coordinate array\n",
    "Z = 1 # atomic number \n",
    "psi = 1/np.sqrt(pi)*(Z/a0)**(3/2)*np.exp(-Z*np.abs(r)/a0) #electron density wavefunction\n",
    "P = 4*pi*r**2*np.abs(psi)**2 # radial distribution function\n",
    "\n",
    "#Numerical calcuations\n",
    "qenc = e*np.cumsum(P)*dr #Calculate charge enclosed at radius r using a cumulative sum.  This is a simple way to integrate in Python, but is not quite as accurate.\n",
    "A = 4*pi*r**2 #Area of shell at radius r\n",
    "E = qenc/epsilon_0/A #Electric field at radius r\n",
    "\n",
    "#Analytic expressions\n",
    "qenc_analytic = e*(-np.exp(-(2*r)/a0)*(a0**2 + 2*a0*r + 2*r**2)/a0**2)+e\n",
    "E_analytic = qenc_analytic/epsilon_0/A"
   ]
  },
  {
   "cell_type": "code",
   "execution_count": null,
   "metadata": {},
   "outputs": [],
   "source": [
    "# plot electric field and enclosed charge \n",
    "fig,ax = plt.subplots()\n",
    "ax.plot(r/1e-12,qenc/np.max(qenc), label = r'$Q_{enc}(r)$ numeric', color='blue') #numerically calculated charge enclosed\n",
    "ax.plot(r/1e-12,qenc_analytic/np.max(qenc_analytic), label = r'$Q_{enc}(r)$ analytic', color='k', linestyle = '--') #analytic charge enclosed\n",
    "\n",
    "ax.plot(r/1e-12,E/np.max(E), label = r'$E(r)$ numeric', color='red') #plot Electric Field\n",
    "ax.plot(r/1e-12,E_analytic/np.max(E_analytic), label = r'$E(r)$ analytic', color='k',linestyle = '--') #plot Electric Field\n",
    "ax.vlines(a0/1e-12, 0, 1.1, colors='k', linestyles='dashed', linewidth=1, label=r'$a_0$ = {:.2f} pm'.format(a0/1e-12))\n",
    "\n",
    "plt.title(r'Hydrogen 1s enclosed charge and resulting E-field')\n",
    "plt.xlabel('Distance [pm]')\n",
    "plt.legend()\n",
    "plt.show()"
   ]
  },
  {
   "cell_type": "markdown",
   "metadata": {},
   "source": [
    "The numeric and analytic expressions match very well, except perhaps right near the origin.  Let's do some slightly fancier integration using built-in Python integration tools from SciPy to see if we can do better.  While we're at it, let's also do some fancy interactive plotting.  This will be a useful Python skill for visualizing things later in the course.  For this example we'll vary the atomic number Z in the interactive plot to see how things change."
   ]
  },
  {
   "cell_type": "code",
   "execution_count": null,
   "metadata": {},
   "outputs": [],
   "source": [
    "# Use Scipy integrate function to calculate electric field. Also demonstrate interactive plotting.\n",
    "import ipywidgets as ipw\n",
    "from scipy import integrate\n",
    "\n",
    "def ode(rho, r, Z):\n",
    "    drho = 4*pi*r**2*np.abs(1/np.sqrt(pi)*(Z/a0)**(3/2)*np.exp(-Z*r/a0))**2\n",
    "    return drho\n",
    "\n",
    "def update(Z = 1):\n",
    "    \"\"\"\n",
    "    update solution\n",
    "    \"\"\"\n",
    "    sol = e*integrate.odeint(ode, rho0, r, args = (Z,))\n",
    "    Esol = sol[:,0]/epsilon_0/A\n",
    "    line0.set_ydata(sol/e)\n",
    "    line1.set_ydata(Esol/np.max(Esol))\n",
    "    \n",
    "\n",
    "rho0 = 0\n",
    "#r = np.logspace(np.log10(r0), np.log10(rf),N) #radial coordinate array\n",
    "#A = 4*pi*r**2\n",
    "dummy = np.zeros_like(r)\n",
    "fig = plt.figure()\n",
    "line0, = plt.plot(r/1e-12, dummy, label = \"Enclosed charge\")\n",
    "line1, = plt.plot(r/1e-12, dummy, label = \"E Numerical\")\n",
    "line3, = plt.plot(r/1e-12, E_analytic/np.max(E_analytic), linestyle = '--',label = \"E Analytic, Z=1\")\n",
    "plt.grid()\n",
    "plt.ylim(-0.1, 1.1)\n",
    "plt.xlabel(\"$r$ [pm]\")\n",
    "#plt.ylabel(\"Enclosed Charge [e]\")\n",
    "plt.legend()\n",
    "\n",
    "ipw.interact(update, Z = (1, 10, 1));"
   ]
  },
  {
   "attachments": {},
   "cell_type": "markdown",
   "metadata": {},
   "source": [
    "## Exercises\n",
    "1. (30 pts) Add to the interactive plot so that it displays the value of the enclosed charge and the field at the Bohr radius."
   ]
  },
  {
   "attachments": {},
   "cell_type": "markdown",
   "metadata": {},
   "source": [
    "Now we've plotted the electric field as a function of distance from the nuclues.  It is *very* nonlinear!  But as long as the electron doesn't move too far from the origin, the restoring force will be *approximately* linear.  \n",
    "\n",
    "Let's compare this to the linear approximation above in which we assumed a spherical charge distribution.\n",
    "\n",
    "Note: We're using the words \"linear\" and \"nonlinear\" a lot to get you used to what is actually nonlinear in nonlinear optics (the polarizibility!).\n",
    "\n",
    "To summarize so far, we have calculated the electric field inside a Hydrogen atom using a linear approximation and the full quantum mechanical wavefunction:\n",
    "\n",
    "$$\n",
    "\\begin{align}\n",
    "\\mathbf{E}_{approximate} &= \\frac{1}{4\\pi\\epsilon_0}\\frac{er}{R^3} && \\text{Linear}\\\\\n",
    "\\mathbf{E}_{actual} &= \\frac{e}{4\\pi\\epsilon_0 r^2} \\left[ 1 - e^{-2r/a_0}\\left(1 + 2r/a_0 + 2(r/a_0)^2\\right) \\right] && \\text{Nonlinear!}\n",
    "\\end{align}\n",
    "$$\n"
   ]
  },
  {
   "cell_type": "code",
   "execution_count": null,
   "metadata": {},
   "outputs": [],
   "source": [
    "E_approximate = 1/(4*pi*epsilon_0)*e*r/a0**3\n",
    "\n",
    "fig,ax = plt.subplots()\n",
    "ax.plot(r/1e-12,E_analytic, label = r'$E(r)$ actual', color='k') #plot Electric Field\n",
    "ax.plot(r/1e-12,E_approximate, label = r'$E(r)$ approximate', color='r') #plot Electric Field\n",
    "ax.vlines(a0/1e-12, 0, 1e12, colors='k', linestyle='dashed', linewidth=1, label=r'$a_0$ = {:.2f} pm'.format(a0/1e-12))\n",
    "\n",
    "\n",
    "plt.xlabel('Distance [pm]')\n",
    "plt.legend()\n",
    "plt.xlim(0, 1.1*a0/1e-12)\n",
    "plt.ylim(0, 0.5e12)\n",
    "plt.xlabel('Distance [pm]')\n",
    "plt.ylabel(r'$E(r)$ [V/m]')\n",
    "\n",
    "\n",
    "plt.show()"
   ]
  },
  {
   "attachments": {},
   "cell_type": "markdown",
   "metadata": {},
   "source": [
    "That's *close* but not perfect.  If we do a power series expansion of the equation for the analytic field, we obtain \n",
    "\n",
    "$$\n",
    "\\begin{align}\n",
    " E(r) &= \\frac{e}{4\\pi\\epsilon_0 r^2} \\left[ 1 - e^{-2r/a_0}\\left(1 + 2r/a_0 + 2(r/a_0)^2\\right) \\right] \\nonumber \\\\\n",
    " &= \\frac{e}{3\\pi \\epsilon_0 a_0^3}r - \\frac{e}{2\\pi\\epsilon_0 a_0^4}r^2 + \\frac{2e}{5\\pi \\epsilon_0 a_0^5}r^3 - \\frac{2e}{9\\pi\\epsilon_0 a_0^6}r^4 + \\frac{2e}{21\\pi \\epsilon a_0^7}r^5 + \\dots -\n",
    "\\end{align}\n",
    "$$\n",
    "\n",
    "Looking at the linear term in the expansion, we find that the linear polarizibility of Hydrogen is\n",
    "\n",
    "$$\n",
    "\\begin{align}\n",
    "\\alpha = 3\\pi\\epsilon_0a_0^3.\n",
    "\\end{align}\n",
    "$$\n",
    "\n",
    "So our solid sphere model for the electric charge was off by a factor of $4/3$ for the linear polarization, but still pretty close!\n",
    "\n",
    "Let's plot the correct value so that we have a satisfying pretty picture with linear and nonlinear curves:"
   ]
  },
  {
   "cell_type": "code",
   "execution_count": null,
   "metadata": {},
   "outputs": [],
   "source": [
    "E_taylor = 1/(3*pi*epsilon_0)*e*r/a0**3\n",
    "\n",
    "fig,ax = plt.subplots()\n",
    "ax.plot(r/1e-12,E_analytic, label = r'$E(r)$ actual', color='k') #plot Electric Field\n",
    "ax.plot(r/1e-12,E_taylor, label = r'$E(r)$ power series', color='r') #plot Electric Field\n",
    "ax.vlines(a0/1e-12, 0, 1e12, colors='k', linestyle='dashed', linewidth=1, label=r'$a_0$ = {:.2f} pm'.format(a0/1e-12))\n",
    "\n",
    "\n",
    "plt.xlabel('Distance [pm]')\n",
    "plt.legend()\n",
    "plt.xlim(0, 1.1*a0/1e-12)\n",
    "plt.ylim(0, 0.5e12)\n",
    "plt.xlabel('Distance [pm]')\n",
    "plt.ylabel(r'$E(r)$ [V/m]')\n",
    "\n",
    "\n",
    "plt.show()"
   ]
  },
  {
   "cell_type": "markdown",
   "metadata": {},
   "source": [
    "Ahh...that's better.  Note that the linear approximate devatiates significantly after about 10 pm from the orgin, where the electric field is approximately $10^{11}$ V/m.  This means we need a non-resonant external field of around $10^{11}$ V/m to observe nonlinear effects! Fortunately, the oscillating electric fields in lasers can be tuned to be resonant with the oscillating motion of the proton-electron oscillating dipole moment, and hence not require such ridiculously large fields.\n",
    "\n",
    "To further cement the analogy to mass-spring systems, let's also plot the potential energy $eV(r)$, just like it's done in mass-spring systems.  Recall that the potential $V(r)$ is simply the line integral of the electric field from some point with zero potential energy (infinity) to the point in question.  "
   ]
  },
  {
   "cell_type": "code",
   "execution_count": null,
   "metadata": {},
   "outputs": [],
   "source": [
    "r0 = 1e-6*a0 #set min radial coordinate\n",
    "rf = 100*a0 #set max radial coordinate.  Set really big so that potential is zero at this point.\n",
    "N=50000 #number of points in r array\n",
    "dr = (rf - r0)/(N) #dr step size\n",
    "r = np.arange(r0,rf,dr) #radial coordinate array    \n",
    "\n",
    "\n",
    "\n",
    "def ode(V, r):\n",
    "    qenc_analytic = e*(-np.exp(-(2*r)/a0)*(a0**2 + 2*a0*r + 2*r**2)/a0**2)+e\n",
    "    A = 4*pi*r**2\n",
    "    E_analytic = qenc_analytic/epsilon_0/A\n",
    "    dV = E_analytic\n",
    "    return dV\n",
    "\n",
    "\n",
    "\n",
    "\n",
    "V0 = 0\n",
    "\n",
    "sol = integrate.odeint(ode, V0, np.flip(r)) #note we integrate from infinity to zero by flipping r\n",
    "U_taylor = 0.25*1/(3*pi*epsilon_0)*e*r**2/a0**3 + np.min(sol)/2\n",
    "\n",
    "fig = plt.figure()\n",
    "plt.plot(np.flip(r)/1e-12, sol/2, color = 'k',label = \"Actual\")\n",
    "plt.plot(-np.flip(r)/1e-12, sol/2, color = 'k')\n",
    "plt.plot(r/1e-12,U_taylor, color = 'r', label = 'Linear Approximation')\n",
    "plt.plot(-r/1e-12,U_taylor, color = 'r')\n",
    "plt.vlines(a0/1e-12, -13.4, 0, colors='k', linestyle='dashed', linewidth=1, label=r'$a_0$ = {:.2f} pm'.format(a0/1e-12))\n",
    "plt.grid()\n",
    "plt.ylim(-13.5, 0)\n",
    "plt.xlim(-2*a0/1e-12, 2*a0/1e-12)\n",
    "plt.xlabel(\"$r$ [pm]\")\n",
    "plt.ylabel(\"$U(r)$ [eV]\")\n",
    "plt.legend()\n",
    "plt.show()\n",
    "\n"
   ]
  },
  {
   "attachments": {},
   "cell_type": "markdown",
   "metadata": {},
   "source": [
    "The the potential energy for the linear approximation is a perfect parabola, just like in a mass-spring system.  The potential energy for the actual system is approximately the same for small displacements, but much lower for larger displacements. Notice also that we recover the ground state energy of a Hydrogen atom of -13.6 eV.\n",
    "\n",
    "## Extra Credit Opportunity\n",
    "1. (20 pts) Can you write code that animates a \"ball\" in these potential wells, sloshing back an forth?\n",
    "2. (40 pts, Much harder) For those who have taken quantum optics, can you solve the Schrodinger equation in the energy basis and plot the eigenfunctions for a linear and nonlinear harmonic oscillator with these potentials?  Ignore radial coordinates for now and just assume a 1D potential. What is the spacing between the eigenvalues (energies) in each case?\n",
    "\n",
    "\n",
    "## Closing thought: what does polarizability have to do with optics?\n",
    "\n",
    "So we now know that in general the atomic polarization can be nonlinear.  But what does inducing a dipole moment with an external electric field have to to with optics?  A couple of things are worth pointing out:\n",
    "1. First, for most of the nonlinear optics processes we will study, the external electric field *is* an optical field (often a laser).  This optical field oscillates at optical frequencies (100's of THz), and hence the relative position of the electron cloud and nucleus can oscillate at optical frequencies.\n",
    "2. Second, dipoles produce electric fields themselves. "
   ]
  },
  {
   "attachments": {},
   "cell_type": "markdown",
   "metadata": {},
   "source": [
    "## Bonus Material (Not Required)\n",
    "\n",
    "Remeber how we expanded the electric field in a power series?  Let's extend that a bit:\n",
    "\n",
    "$$\n",
    "\\begin{align}\n",
    " E(r) &= \\frac{e}{4\\pi\\epsilon_0 r^2} \\left[ 1 - e^{-2r/a_0}\\left(1 + 2r/a_0 + 2(r/a_0)^2\\right) \\right] \\nonumber \\\\\n",
    " &= \\frac{e}{3\\pi \\epsilon_0 a_0^3}r - \\frac{e}{2\\pi\\epsilon_0 a_0^4}r^2 + \\frac{2e}{5\\pi \\epsilon_0 a_0^5}r^3 - \\frac{2e}{9\\pi\\epsilon_0 a_0^6}r^4 + \\frac{2e}{21\\pi \\epsilon a_0^7}r^5 + \\dots - \\nonumber \\\\\n",
    "&= \\frac{e}{4\\pi\\epsilon_0 a_0^2}\\left[ \\frac{4}{3}\\frac{r}{a_0} - \\frac{2}{1}\\left(\\frac{r}{a_0}\\right)^2 + \\frac{8}{5}\\left(\\frac{r}{a_0}\\right)^3 + \\dots -\\right]  \\nonumber \\\\\n",
    "&= \\frac{e}{4\\pi\\epsilon_0 a_0^2} \\sum_0^\\infty \\left(\\frac{-r}{a_0}\\right)^n \\left[2^{n+1} \\left( \\frac{-1}{n!} + \\frac{2}{(n+1)!} +\\frac{-2}{(n+2)!} \\right)\\right] \\nonumber \\\\\n",
    "\\end{align}\n",
    "$$"
   ]
  },
  {
   "attachments": {},
   "cell_type": "markdown",
   "metadata": {},
   "source": [
    "We might naturally wonder whether we could use this power series expansion can help us find the correct terms for 2nd, 3rd, and higher order nonlinearities.  It turns out the answer is no.  Why?  \n",
    "\n",
    "We have only expanded the field for positive values of $r$, and so our Taylor expansion is not valid for negative values of $r$.  So all higher terms except the linear term are being \"influenced\" by these negative values.  Say what?   We can think about it this way: in writing the electric field as a function of $r$, we have implicitly neglected the fact that the electric field always points radially *outwards* from the origin.  So any line plot through the origin of the field projected onto one direction should be an odd function. The Taylor series expansion of that field should therefore only contain odd powers of $r$, but our Taylor expansion clearly has *even* terms, so it can't be used to find the nonlinear forces acting on an electron oscillating about the origin.\n",
    "\n",
    "## Mega-Bonus Opportunity\n",
    "\n",
    "1. Find an odd representation of the electric field of a Hydrogen atom that can be expanded in a Taylor series that accurately gives the nonliear polarization.  I have not seen this in the literature, so it might be worth a peer-review publication if you can figure it out.  Here is the beginning of an attempt I've made:"
   ]
  },
  {
   "cell_type": "markdown",
   "metadata": {},
   "source": [
    "We know the positive values are correct, so we can numerically make an odd function that is correct simply by negating the field for negative values of $r$.  The strategy is then to find a power series expansion that converges within some radius and/or an analytic function for that field.  Here's a numerical approximation:"
   ]
  },
  {
   "cell_type": "code",
   "execution_count": null,
   "metadata": {},
   "outputs": [],
   "source": [
    "qenc_analytic = e*(-np.exp(-(2*r)/a0)*(a0**2 + 2*a0*r + 2*r**2)/a0**2)+e\n",
    "A = 4*pi*r**2\n",
    "E_analytic = qenc_analytic/epsilon_0/A\n",
    "rodd = np.concatenate((-r[-1:0:-1], r))/a0 #Create an r-array that has negative and positive values\n",
    "Eodd = np.concatenate((-E_analytic[-1:0:-1], E_analytic))/np.max(E_analytic) # Make E negative for negative r\n",
    "\n",
    "#Plot the electric field\n",
    "fig = plt.figure()\n",
    "plt.plot(rodd/1e-12, Eodd)\n",
    "plt.show()"
   ]
  },
  {
   "cell_type": "code",
   "execution_count": null,
   "metadata": {},
   "outputs": [],
   "source": [
    "# use SciPy's interpolate functions to fund an approximate Taylor expansion.  \n",
    "# Look for an expansion that has very small even terms\n",
    "from scipy.interpolate import approximate_taylor_polynomial\n",
    "from scipy.interpolate import interp1d\n",
    "\n",
    "Ef = interp1d(rodd,Eodd) # Generate an interpolation function\n",
    "\n",
    "fig = plt.figure()\n",
    "plt.plot(rodd,Ef(rodd), color='k')\n",
    "\n",
    "\n",
    "for degree in [1, 3, 5, 21]:\n",
    "    E_taylor = approximate_taylor_polynomial(Ef, 0, degree, 3, order=degree) #the scale parameter is very sensitive   \n",
    "    E_taylor_trunc = np.poly1d(np.asarray(E_taylor)[-4::1]) \n",
    "    plt.plot(rodd, E_taylor(rodd),  linestyle='--', label=f\"degree={degree}\")\n",
    "    #plt.plot(rodd, E_taylor_trunc(rodd), linestyle='--',label=f\"degree={degree} truncated\")\n",
    "    print(np.poly1d(E_taylor_trunc))\n",
    "\n",
    "plt.legend(bbox_to_anchor=(1.05, 1), loc='upper left', borderaxespad=0.0, shadow=True)\n",
    "plt.tight_layout()\n",
    "plt.axis([-5, 5, -1.1, 1.1])\n",
    "plt.plot()\n",
    "\n",
    "plt.show()\n",
    "print(np.poly1d(E_taylor))"
   ]
  },
  {
   "cell_type": "code",
   "execution_count": null,
   "metadata": {},
   "outputs": [],
   "source": [
    "#Look at just the first few terms.  \n",
    "E_taylor_trunc = np.poly1d(np.asarray(E_taylor)[-4::1])\n",
    "print(np.poly1d(E_taylor_trunc))"
   ]
  }
 ],
 "metadata": {
  "kernelspec": {
   "display_name": "Python 3.9.6 ('design')",
   "language": "python",
   "name": "python3"
  },
  "language_info": {
   "codemirror_mode": {
    "name": "ipython",
    "version": 3
   },
   "file_extension": ".py",
   "mimetype": "text/x-python",
   "name": "python",
   "nbconvert_exporter": "python",
   "pygments_lexer": "ipython3",
   "version": "3.9.6"
  },
  "vscode": {
   "interpreter": {
    "hash": "bb3200b6e43d4341bac0decd16cd7189f72dc8bcd43f4b7917dc5446e5a1d0af"
   }
  }
 },
 "nbformat": 4,
 "nbformat_minor": 4
}
