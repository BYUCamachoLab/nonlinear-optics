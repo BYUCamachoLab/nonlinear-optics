{
 "cells": [
  {
   "attachments": {},
   "cell_type": "markdown",
   "metadata": {},
   "source": [
    "# Overview of Nonlinear Processes\n",
    "\n",
    "Name:\n",
    "\n",
    "Total Points: --/100 pts\n",
    "\n",
    "Extra Credit: --/40 pts\n",
    "\n",
    "## Second Harmonic Generation\n",
    "\n",
    "We've already seen second harmonic generation in our introductory example to nonlinear suceptibility in the last notebook.  We saw that when a quadratic term is added to the restoring force of a simple harmonic oscillator, oscillations appear at $2\\omega_0$ in addition to the natural oscillation frequency $\\omega_0$.  Furthermore, if the mass is *driven* by an external force at frequency $\\omega$, the mass will oscillate at both $\\omega$ and $2\\omega$.  These oscillations in turn produce electric fields, thus *generating* light at the doubled frequency.  \n",
    "\n",
    "Mathematically, we summarize this process as follows.  The external driving force is usually a laser, whose electric field is represented as\n",
    "\n",
    "$$\n",
    "\\begin{align}\n",
    "\\tilde{E}(t) = Ee^{-j\\omega t} + Ee^{j\\omega t}\n",
    "\\end{align}\n",
    "$$\n",
    "\n",
    "Here we've followed the convention of Boyd, and indicated all rapidly varying quantitites with a tilde.  We substitute this field into the equation for the nonlinear polarization and obtain:\n",
    "\n",
    "$$\n",
    "\\begin{align}\n",
    "P(t) & = \\epsilon_0 \\left[ \\chi^{(1)} \\tilde{E}(t) + \\chi^{(2)} \\tilde{E}^2(t) + \\dots \\right]  \\\\\n",
    "     &=  \\epsilon_0 \\left[ \\chi^{(1)} \\left( Ee^{-j\\omega t} +  E^*e^{j\\omega t}\\right) + \\chi^{(2)} \\left(E^2e^{-j2\\omega t} + 2|E|^2 + E^{*2}e^{-j2\\omega t} \\right)  + \\dots \\right] \n",
    "\\end{align}\n",
    "$$\n",
    "\n",
    "We may isolate the nonlinear polarization oscillating at $2\\omega$ and write it as\n",
    "\n",
    "$$\n",
    "\\begin{align}\n",
    "\\tilde{P}^{(2)}(t) = \\epsilon_0 \\chi^{(2)} \\left(E^2e^{-j2\\omega t} + c.c \\right)\n",
    "\\end{align}\n",
    "$$\n",
    "\n",
    "Notice there is also a non-oscillating polarization created of magnitude $2 \\epsilon_0 \\chi^{(2)}|E|^2 $.  This is known as optical rectification.  \n",
    "\n",
    "We can start to think of a quantum mechanical description of second harmonic generation by considering the external laser as a flux of photons with frequency $\\omega$ incident on the atoms.  The frequency doubling process produces new photons at frequency $2\\omega$.  Since the energy of a photon is proportional to its frequency (thank you Max Planck!), each photon generated at $2\\omega$ must result in the destruction of a single photon at $\\omega$.  This process is often represnted graphically an energy diagram:\n",
    "\n",
    "<div>\n",
    "<img src=\"https://github.com/BYUCamachoLab/nonlinear-optics/blob/main/book/images/second_harmonic_generation.png?raw=true\" width=\"200px\"/>\n",
    "</div>\n",
    "\n",
    "The horizontal lines represent the new potential energy of the electron when it absorbs or emits photons.  Solid horizontal lines represent allowed quantum states, and dashed lines represent \"virtual\" states that are very short-lived.  \n",
    "\n",
    "Interesting side note: You can also do the reverse of this process, and send in a single photon at $2\\omega$ and generate two \"daughter\" photons at $\\omega$.  This process is called parametric downconversion, and is the most common way to generate entangled photons.  But more on that later..."
   ]
  },
  {
   "attachments": {},
   "cell_type": "markdown",
   "metadata": {},
   "source": [
    "## Sum and Difference Frequency Generation\n",
    "\n",
    "We'll start with the diagram this time and then do the math. \n",
    "\n",
    "\n",
    "<div>\n",
    "<img src=\"https://github.com/BYUCamachoLab/nonlinear-optics/blob/main/book/images/sum_frequency_generation.png?raw=true\" width=\"200px\"/>\n",
    "</div>\n",
    "\n",
    "\n",
    "This is just a slight modification of second harmonic generation.  The external laser now has photons at two frequencies, $\\omega_1$ and $\\omega_2$.  The second order nonlinearity allows them to combine and generate photons at frequency $\\omega_1 + \\omega_2$.  Here's the math:\n",
    "\n",
    "$$\n",
    "\\begin{align}\n",
    "\\tilde{E}(t) = E_1e^{-j\\omega_1 t} + E_2e^{-j\\omega_2 t} + c.c\n",
    "\\end{align}\n",
    "$$\n",
    "\n",
    "$$\n",
    "\\begin{align}\n",
    "\\tilde{P}^{(2)}(t)  = & \\epsilon_0 \\chi^{(2)}\\left[  E_1^2e^{-j2\\omega_1 t} + E_2^2e^{-j2\\omega_2 t} + 2E_1E_2e^{-j(\\omega_1 + \\omega_2) t} + 2E_1E_2^*e^{-j(\\omega_1 - \\omega_2) t} + c.c. \\right]\\\\\n",
    "& + 2\\epsilon_0 \\chi^{(2)}\\left[ |E_1|^2 + |E_2|^2\\right]\n",
    "\\end{align}\n",
    "$$\n",
    "\n",
    "There are several terms here.  Let's break it down by the frequency of the resulting polarization.  In other words, we can write\n",
    "\n",
    "$$\n",
    "\\begin{align}\n",
    "\\tilde{P}^{(2)}(t)  = \\sum_n P(\\omega_n)e^{j\\omega_n t}\n",
    "\\end{align}\n",
    "$$\n",
    "\n",
    "and let $\\omega_n$ include positive and negative frequencies.  The sum frequency generation term in the diagram above is \n",
    "\n",
    "$$\n",
    "\\begin{align}\n",
    "P(\\omega_1 + \\omega_2)E^{-j(\\omega_1+\\omega_2)} = \\epsilon_0 \\chi^{(2)}2E_1E_2E^{-j(\\omega_1+\\omega_2)} + c.c. && \\text{SFG}\n",
    "\\end{align}\n",
    "$$\n",
    "\n",
    "We can write down all the terms this way:\n",
    "\n",
    "$$\n",
    "\\begin{align}\n",
    "P(2\\omega_1) = \\epsilon_0 \\chi^{(2)}E_1^2 && \\text{SHG}  \\\\\n",
    "P(2\\omega_2) = \\epsilon_0 \\chi^{(2)}E_2^2 && \\text{SHG}  \\\\\n",
    "P(\\omega_1 + \\omega_2) = \\epsilon_0 \\chi^{(2)}2E_1E_2 && \\text{SFG}  \\\\\n",
    "P(\\omega_1 - \\omega_2) = \\epsilon_0 \\chi^{(2)}2E_1E^*_2 && \\text{DFG}  \\\\\n",
    "P(0) = 2\\epsilon_0 \\chi^{(2)}\\left[ |E_1|^2 + |E_2|^2\\right] && \\text{OR}\n",
    "\\end{align}\n",
    "$$\n",
    "\n",
    "Each process will have an associated energy level diagram:\n",
    "\n",
    "\n",
    "<div>\n",
    "<img src=\"https://github.com/BYUCamachoLab/nonlinear-optics/blob/main/book/images/second_order_processes.png?raw=true\" width=\"800px\"/>\n",
    "</div>\n",
    "\n",
    "A couple of things are worth noting:\n",
    "\n",
    "1. All these processes occur simultaneously.  If you input two strong fields $E_1$ and $E_2$ into a nonlinear medium you can expect to get all these effects unless something selectively promotes one over the other (more on this later).\n",
    "2. The difference frequency process is qualitatively different than the others.  The photon at $\\omega_1$ is absorbed, but the photon at $\\omega_2$ appears to be generated.  How is that possible?  Well, the diagram is actually depicting a *new* photon at $\\omega_2$ that is being stimulated by an input photon at $\\omega_2$.  So the the input photons at $\\omega_2$ are causing stimulated emission of other $\\omega_2$, and thereby generating new photons at $\\omega_3 = \\omega_1 - \\omega_2$ and then amplifyinig them.  For this reason, DFG is often called optical parametric amplification.\n",
    "3. All of these processes conserve energy.  The electron starts and ends in the ground state in each case.  This is the definition of the word *parametric*.  We'll later contrast this with non-parametric processes in which optical absorption and loss occur.\n",
    "4. Notice that some of the $P(\\omega_1+\\omega_2)$ and $P(\\omega_1-\\omega_2)$ terms have factors of $2$.  We got this straight from the math, but it also turns out to have a physical significance!  There are two degenerate ways each of these processes can happen.  For example, in the case of SFG either (1) A photon at $\\omega_1$ can be absorbed first, then a photon at $\\omega_2$ or (2) A photon at $\\omega_2$ can be absorbed first, then a photon at $\\omega_1$.  The same upper state would be reached in both cases, but different virtual states would be used along the way. We could add two more diagrams to our figure for explicit completeness, one for each additional path with it's own virtual state, but most books assume it is implied.  Anyways, since there are 2 paths for the electron to traverse the energy levels, the effect is twice as strong.  Crazy physics thought:  Notice in the case of difference frequency generation that the second path implies that we have stimulated emission of a photon (from the ground state!) at $\\omega_2$ *before* a photon at $\\omega_1$ is absorbed.\n",
    "\n",
    "Python can help us keep track of all these possibilities using the symbolic algebra package sympy:"
   ]
  },
  {
   "cell_type": "code",
   "execution_count": null,
   "metadata": {},
   "outputs": [],
   "source": [
    "### UNCOMMENT AND RUN THIS CELL IF USING GOOGLE COLAB\n",
    "# !pip install ipympl -q\n",
    "# from google.colab import output\n",
    "# output.enable_custom_widget_manager()"
   ]
  },
  {
   "cell_type": "code",
   "execution_count": null,
   "metadata": {},
   "outputs": [],
   "source": [
    "import numpy as np\n",
    "import matplotlib.pyplot as plt\n",
    "from sympy import * #import sympy\n",
    "import ipywidgets as ipw\n",
    "%matplotlib widget"
   ]
  },
  {
   "cell_type": "code",
   "execution_count": null,
   "metadata": {},
   "outputs": [],
   "source": [
    "E1, E2, eps, chi2 = symbols('E1,E2, epsilon_0, chi^(2)') #create symbols for the input electric fields.  We'll ignore epsilon_0 and chi for now.\n",
    "P2 = (E1+ functions.conjugate(E1)+ E2+functions.conjugate(E2))**2\n",
    "eps*chi2*P2.expand()"
   ]
  },
  {
   "cell_type": "markdown",
   "metadata": {},
   "source": [
    "We can also make energy level diagrams:"
   ]
  },
  {
   "cell_type": "code",
   "execution_count": null,
   "metadata": {},
   "outputs": [],
   "source": [
    "def energy_diagram(e):\n",
    "    fig, ax = plt.subplots()\n",
    "    x = [0.5, 0.5, 1.0]\n",
    "    de = np.diff(e)\n",
    "    for n, value in enumerate(de):\n",
    "        ax.arrow(x[n], e[n], 0, de[n], width =0.02, length_includes_head = True, color = 'k')\n",
    "        ax.hlines(e[n]+de[n], x[n]-0.1, x[n]+0.1, colors='k', linestyles='dashed', linewidth=1)\n",
    "        ax.annotate('$\\omega_{}$'.format(n+1), (x[n]-0.1,e[n]+de[n]/2))\n",
    "        \n",
    "        ax.set_xlim(min(x)-0.5,max(x)+0.5)\n",
    "        ax.set_ylim(-0.1,2.5)\n",
    "        plt.title('Sum Frequency Generation')\n",
    "        plt.show()\n",
    "\n",
    "energies = [0, 1.5, 2, 0]\n",
    "energy_diagram(energies)"
   ]
  },
  {
   "attachments": {},
   "cell_type": "markdown",
   "metadata": {},
   "source": [
    "## Exercises\n",
    "\n",
    "1. (10 pts) How many possible parametric photon pathways are represented in the general 2nd order process described above?  How many of those pathways lead to the generation of a photon $\\omega_3$ with energy $\\geq 0$?\n",
    "2. (10 pts) Above is a Python function to generate an energy-level diagram for sum-frequency generation. Create a similar function for difference frequency generation.\n",
    "3. (20 pts Extra Credit):  Make a program that makes set of all possible energy level diagrams given input P2 above.\n"
   ]
  },
  {
   "attachments": {},
   "cell_type": "markdown",
   "metadata": {},
   "source": [
    "## Optical Parametric Oscillation\n",
    "\n",
    "Optical parametric oscillation is a small tweak to difference frequency generation in which we put a nonlinear crystal inside a cavity that is resonant at $\\omega_2$ and/or $\\omega_3$.  This allows a large field at these frequencies to build up inside the cavity and enhance the stimulate emission at both frequencies.  This makes optical parametric amplification (DFG) much more efficient, and is very common in tunable lasers.  By inputing only $\\omega_1$ and tuning the cavity to be resonant at $\\omega_2$, any frequency $\\omega_3 = \\omega_1-\\omega_2$ can be generated, thus making a tunable laser."
   ]
  },
  {
   "attachments": {},
   "cell_type": "markdown",
   "metadata": {},
   "source": [
    "## Third Harmonic Generation\n",
    "\n",
    "Third harmonic generation is analogous to second harmonic generation (frequency doubling) except that it involves the absorption of 3 photons instead of 2.  We again consider a laser oscillating at frequency $\\omega$:\n",
    "\n",
    "$$\n",
    "\\begin{align}\n",
    "\\tilde{E}(t) = Ee^{-j\\omega t} + Ee^{j\\omega t}\n",
    "\\end{align}\n",
    "$$"
   ]
  },
  {
   "cell_type": "code",
   "execution_count": null,
   "metadata": {},
   "outputs": [],
   "source": [
    "E, eps, chi3, omega, t = symbols('E, epsilon_0, chi^(3), omega, t') #create symbols for the input electric fields.  We'll ignore epsilon_0 and chi for now.\n",
    "P3 = (E*exp(-I*omega*t)+ functions.conjugate(E)*exp(I*omega*t))**3\n",
    "eps*chi3*P3.expand()"
   ]
  },
  {
   "attachments": {},
   "cell_type": "markdown",
   "metadata": {},
   "source": [
    "The first term, $E^3 e^{-j 3\\omega t}$ represents 3rd harmonic generation.  Three photons at $\\omega$ are absorbed and a photon at frequency $3\\omega$ is generated.\n",
    "\n",
    "## Exercises\n",
    "1. (20 pts) Create an energy level diagram for 3rd harmonic generation."
   ]
  },
  {
   "attachments": {},
   "cell_type": "markdown",
   "metadata": {},
   "source": [
    "## Intensity-dependent Refractive Index\n",
    "\n",
    "2nd term in 3rd order polarization, $3E^2E^*e^{-j\\omega t}$, represents is interesting.  It represents a component of the polarization that is oscillating at the same frequency as the input laser.  It therefore *acts* in same manner as the linear susceptibility, which is equivalent to the refractive index (recall $n^2 = \\chi^{(1)}+1$.  Comparing it to the linear term, however, this term as an extra factor of $EE^* = |E|^2$, making it an intensity-dependent refractive index.  The intensity-dependent refractive index is responsible for self-focusing effects in $\\chi^{(3)}$ materials.  The center of a gaussian beam is more intense that its edges, meaning that light there will travel more slowly, just like a lens that is thick in the center.\n",
    "\n",
    "## Excercises\n",
    "\n",
    "1. (20 pts) Plot the intensity profile for a gaussian beam in vacuum with a diameter of 10 microns and a peak electric field of 1000 V/m.\n",
    "2. (20 pts) Plot the intensity-dependent refractive index profile for this same beam traveling through silicon, which has $\\chi^{(3)}$ = $5\\times 10^{-16} \\frac{\\text{m}^2}{\\text{V}^2}$.  How large does the peak electric field need to be to increase the refractive index by 0.5? (this is about the index contrast between glass and air)"
   ]
  },
  {
   "attachments": {},
   "cell_type": "markdown",
   "metadata": {},
   "source": [
    "## Parametric vs. Nonparametric Processes\n",
    "\n",
    "Parametric processes leave the atoms in the same state they started.  Nonparametric processes do not.\n",
    "\n",
    "## Saturable Absorption\n",
    "\n",
    "As an example of a nonparametric process, let's take a look at saturable absorption.  Many materials can only absorb so much light, and additional light beyond the threshhold intensity passes through.  This occurs because so many electrons have been excited out of the ground state that there are none left to absorb light. In this case, the material is said to be saturated with light.  Mathematically, we can describe the amount of absorption per unit length, $\\alpha$ as a function of intensity $I$ as\n",
    "\n",
    "$$\n",
    "\\begin{align}\n",
    "\\alpha(I) = \\frac{\\alpha_0}{1 + \\frac{I}{I_0}}.\n",
    "\\end{align}\n",
    "$$\n",
    "\n",
    "Let's plot this:"
   ]
  },
  {
   "cell_type": "code",
   "execution_count": null,
   "metadata": {},
   "outputs": [],
   "source": [
    "I = np.linspace(0,10, 100)\n",
    "I0 = 1\n",
    "alpha0 = 1\n",
    "alpha = alpha0/(1+I/I0)\n",
    "fig, ax = plt.subplots()\n",
    "ax.plot(I, alpha)\n",
    "ax.set_title('Saturable Absorption')\n",
    "ax.set_ylabel(r'$\\alpha$')\n",
    "ax.set_xlabel(r'$I$')\n",
    "plt.show()"
   ]
  },
  {
   "attachments": {
    "saturable_absorption.png": {
     "image/png": "[encoded data removed]"
    }
   },
   "cell_type": "markdown",
   "metadata": {},
   "source": [
    "When you place a saturable absorber inside a resonant optical cavity, an interesting effect called optical bistability can occur.  As the laser intensity is increased, the cavity builds up intensity.  This reduces the absorption of the saturable aborber, further increasing the intesity.  However, if the input laser intensity is then slowly lowered, the itensity of light in the cavity remains high, since the saturable absorber tranmits all light.  Eventually, the light intensity becomes low enough that the intensity drops rapidly.  Here is a diagram showing this process qualitatively:\n",
    "\n",
    "<div>\n",
    "<img src=\"https://github.com/BYUCamachoLab/nonlinear-optics/blob/main/book/images/saturable_absorption.png?raw=true\" width=\"400px\"/>\n",
    "</div>\n",
    "\n",
    "We'll come back to this effect in more detail later in the course.\n"
   ]
  },
  {
   "attachments": {},
   "cell_type": "markdown",
   "metadata": {},
   "source": [
    "## Two-photon Absorption\n",
    "\n",
    "As an example of another nonparametric nonlinear process,  let's look at two-photon absorption.  It's identical to second harmonic generation with one important difference: the upper state is a real state of the atom instead of a virtual state.  Here's an energy-level diagram--notice the solid black horizontal lines representing real states:\n",
    "\n",
    "<div>\n",
    "<img src=\"https://github.com/BYUCamachoLab/nonlinear-optics/blob/main/book/images/two_photon_absorption.png?raw=true\" width=\"200px\"/>\n",
    "</div>\n",
    "\n",
    "As a result of the real state, the when the atom absorbs the two photons, it does not immediately release the energy in the from of a new photon at energy $2\\omega$. Rather the electron stays in the excited state for some time.\n",
    "\n",
    "Two photon absorption is a second-order nonlinear process.  The fraction of light intensity absorbed depends nonlinearly with the intensity of light.  Qualitatively, we may see how this works by thinking of the absorption process statistically. In order for two-photons to be absorbed, the *both* need to be in the material at the same time. For very low flux of photons, the likelihood that two photons will interact with the same atom simultaneously is small.  But for higher photon fluxes, this liklihood increases.  In fact, for small photon numbers, it increases quadratically with the number of photons, since the probability of two-photons being present is simply the square of the probabability of one photon being present.  This is another way to think physically (and quantum mechanically!) about how second-order nonlinear processes work.\n",
    "\n",
    "Let's do a simple statistical example:"
   ]
  },
  {
   "cell_type": "code",
   "execution_count": null,
   "metadata": {},
   "outputs": [],
   "source": [
    "N = np.linspace(1, 100, 100) # Number of photons in material in a given time duration\n",
    "# we will define p below as the probability that any individual photon is absorbed\n",
    "\n",
    "\n",
    "def update(p = 0.01):\n",
    "    p0e = (1-p)**N  #probability that exactly 0 photons are absorbed\n",
    "    p1e = N*p*(1-p)**(N-1)  #probability that exactly one photon is absorbed\n",
    "    p2 = 1 - p0e - p1e #probability that at least two photons are absorbed\n",
    "    line0.set_ydata(p2)\n",
    "\n",
    "fig, ax = plt.subplots()\n",
    "dummy_p = np.zeros_like(N)\n",
    "line0, = ax.plot(N, dummy_p, label = 'p', color = 'blue')\n",
    "#ax.plot(N, p2)\n",
    "ax.set_ylabel('Two-photon absorption probability')\n",
    "ax.set_xlabel('Number of photons')\n",
    "ax.set_ylim(0, 1)\n",
    "\n",
    "\n",
    "ipw.interact(update, p = (1e-4, 1e-1, 1e-4))\n"
   ]
  },
  {
   "attachments": {},
   "cell_type": "markdown",
   "metadata": {},
   "source": [
    "## Exercises\n",
    "\n",
    "1. (20 pts) Fit the simple statistical model to a quadratic function for p = 0.0001. It should be a pretty good fit.  At what value of p is RMS the error in the fit > 10%.  Why is the probability of two photon-absorption not quadratic at high absorption cross-sections?   \n",
    "2. (20 pts Extra Credit).  Make a statistical model for 3-photon aborption.  Is it a cubic function like we might expect?"
   ]
  },
  {
   "cell_type": "markdown",
   "metadata": {},
   "source": []
  }
 ],
 "metadata": {
  "kernelspec": {
   "display_name": "Python 3.10.8 ('nonlinoptics')",
   "language": "python",
   "name": "python3"
  },
  "language_info": {
   "codemirror_mode": {
    "name": "ipython",
    "version": 3
   },
   "file_extension": ".py",
   "mimetype": "text/x-python",
   "name": "python",
   "nbconvert_exporter": "python",
   "pygments_lexer": "ipython3",
   "version": "3.10.8"
  },
  "vscode": {
   "interpreter": {
    "hash": "32cef8dac44ce10285751f87f400ad1c7333d839691ab02151c07fc201603a42"
   }
  }
 },
 "nbformat": 4,
 "nbformat_minor": 4
}
