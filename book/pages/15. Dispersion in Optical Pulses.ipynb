{
 "cells": [
  {
   "attachments": {},
   "cell_type": "markdown",
   "metadata": {},
   "source": [
    "# Dispersion in Optical Pulses\n",
    "\n",
    "**Name:**\n",
    "\n",
    "**Total Points:** --/100 pts"
   ]
  },
  {
   "cell_type": "markdown",
   "metadata": {},
   "source": [
    "\n",
    "In this notebook, you will explore how to numerically propagate a pulse including dispersion.  We'll also be getting familiar with taking Fourier transforms in Python.\n",
    "\n",
    "First, let's write some code that gives us a Gaussian pulse in the time domain:"
   ]
  },
  {
   "cell_type": "code",
   "execution_count": null,
   "metadata": {},
   "outputs": [],
   "source": [
    "import numpy as np\n",
    "import matplotlib.pyplot as plt\n",
    "import ipywidgets as ipw\n",
    "from scipy.constants import *\n",
    "%matplotlib widget\n",
    "\n",
    "## Generate Gaussian Pulse in the time domain\n",
    "\n",
    "lam0 = 1.0 # wavelength in microns \n",
    "f0 = c*1e-9*1e6/lam0 # cycles per ns\n",
    "omega0 = 2*pi*f0  #angular frequency in rad/ns\n",
    "T0 = 1/f0 # period in ns\n",
    "tau = 2*T0 #width of gaussian pulse in time (ns)\n",
    "\n",
    "fs = 5*f0\n",
    "\n",
    "t = np.arange(-100*T0, 100*T0, fs)\n",
    "N=1000\n",
    "\n",
    "t = np.linspace(-100*T0, 100*T0, N)  #time array\n",
    "\n",
    "A = 1  #peak field amplitude\n",
    "E_pulse = A*np.exp(-t**2/(tau**2)) \n",
    "Et = E_pulse*np.exp(1j*omega0*t)\n",
    "It = np.abs(Et)**2\n",
    "\n",
    "#z = np.linspace(0, 20*lam, 1000)\n",
    "\n",
    "fig, ax = plt.subplots()\n",
    "ax.plot(t, It)\n",
    "\n",
    "plt.show()"
   ]
  },
  {
   "cell_type": "markdown",
   "metadata": {},
   "source": [
    "Ok, that looks good.  Now let's take the Fourier transform of that pulse to see what frequency components it contains.   This can be a little tricky the first time you do it, since numerical FFT's have a bit of subtlety.  We'll compare our result to an analytic formula in New to make sure we've got it right."
   ]
  },
  {
   "cell_type": "code",
   "execution_count": null,
   "metadata": {},
   "outputs": [],
   "source": [
    "## Take Fourier Transform to see pulse in Frequency Domain\n",
    "\n",
    "from scipy import fftpack\n",
    "Ef = fftpack.fft(Et)/fs\n",
    "freqs = fftpack.fftfreq(len(Ef))*fs\n",
    "\n",
    "# Analytic solution for comparison\n",
    "Efa = np.sqrt(pi)*A*tau*np.exp(-(2*pi*(freqs - f0))**2*tau**2/4)\n",
    "\n",
    "\n",
    "fig, ax = plt.subplots()\n",
    "ax.stem(freqs, np.abs(Ef)**2, use_line_collection=True)\n",
    "ax.plot(freqs, np.abs(Efa)**2, color = 'red')\n",
    "plt.show()"
   ]
  },
  {
   "cell_type": "markdown",
   "metadata": {},
   "source": [
    "Notice that that Scipy's FFT algorithm normalizes the FFT such that the area under the transformed function is preserve.  We'd like to normalize to the intensity (square of the field), so we work that out briefly:"
   ]
  },
  {
   "cell_type": "markdown",
   "metadata": {},
   "source": [
    "FFT normalizes such that\n",
    "\\begin{align}\n",
    "\\int |E|df = 1\n",
    "\\end{align}\n",
    "\n",
    "We want \n",
    "\\begin{align}\n",
    "A^2\\int |E|^2df = 1\n",
    "\\end{align}\n",
    "\\begin{align}\n",
    "A^2 = \\frac{1}{\\int |E|^2df}\n",
    "\\end{align}"
   ]
  },
  {
   "cell_type": "code",
   "execution_count": null,
   "metadata": {},
   "outputs": [],
   "source": [
    "## Normalization\n",
    "df = freqs[1]-freqs[0]\n",
    "Afnorm = sum(np.abs(Ef)**2)*df\n",
    "Efnorm = Ef/np.sqrt(Afnorm)\n",
    "print(sum(np.abs(Efnorm)**2)*df)\n",
    "\n",
    "fig, ax = plt.subplots()\n",
    "ax.stem(freqs, np.abs(Efnorm)**2)\n",
    "ax.plot(freqs, np.abs(Efa/np.sqrt(Afnorm))**2, color = 'red')\n",
    "plt.show()"
   ]
  },
  {
   "cell_type": "markdown",
   "metadata": {},
   "source": [
    "Ok, now for the interesting part.  We will assign each frequency component it's own k-vector, allow it to propagate, and the take the inverse FFT to see what the pulse looks like in the time domain:"
   ]
  },
  {
   "cell_type": "code",
   "execution_count": null,
   "metadata": {},
   "outputs": [],
   "source": [
    "# Calculate the frequency-dependent refractive index\n",
    "\n",
    "# slice containing nonzero frequency components\n",
    "index0 = np.argmax(Efnorm)\n",
    "indexi = int(index0-N/10)\n",
    "indexf = int(index0+N/10)\n",
    "freqslice = freqs[indexi:indexf]\n",
    "lamslice = c/freqslice*1e-3\n",
    "Efnormslice = Efnorm[indexi:indexf]\n",
    "\n",
    "\n",
    "# Sellmeir coefficients for sapphire extraordinary wave\n",
    "B1 = 1.5039759\n",
    "C1 = 5.48041129e-3\n",
    "B2 = 0.55069141\n",
    "C2 = 1.47994281e-2\n",
    "B3 = 6.5927379\n",
    "C3 = 402.89514\n",
    "B = [B1, B2, B3]\n",
    "C = [C1, C2, C3]\n",
    "\n",
    "\n",
    "eps = (1+(lamslice)**2*B[0]/((lamslice)**2-C[0]) \n",
    "      +(lamslice)**2*B[1]/((lamslice)**2-C[1])\n",
    "      +(lamslice)**2*B[2]/((lamslice)**2-C[2]))\n",
    "\n",
    "n = np.sqrt(eps)\n",
    "k = n**2*pi*freqslice/c\n",
    "\n",
    "\n",
    "fig, ax = plt.subplots()\n",
    "ax.plot(lamslice, n)\n",
    "plt.show()"
   ]
  },
  {
   "cell_type": "code",
   "execution_count": null,
   "metadata": {},
   "outputs": [],
   "source": [
    "# Propagate pulse\n",
    "z = 0\n",
    "tslice = t[indexi:indexf]\n",
    "V = Efnormslice*np.exp(1j*k*z)\n",
    "Etz = fftpack.ifft(V)\n",
    "\n",
    "def update(z = 0):\n",
    "    V = Efnormslice*np.exp(1j*k*z)\n",
    "    Etz = fftpack.ifft(V)\n",
    "    line0.set_ydata(np.abs(Etz)) #conversion fraction\n",
    "\n",
    "fig, ax = plt.subplots()\n",
    "dummy_I = np.zeros(V.shape)\n",
    "line0, = ax.plot(-tslice, dummy_I, label = 'I2', color = 'blue')\n",
    "#ax.plot(N, p2)\n",
    "ax.set_ylabel('Intensity')\n",
    "ax.set_xlabel('time')\n",
    "ax.set_ylim(-1e-4, 1.5e-3)\n",
    "\n",
    "\n",
    "ipw.interact(update, z = (0, 20000000, 100))\n",
    "\n",
    "#plt.plot(z,I2)\n",
    "plt.show()\n"
   ]
  },
  {
   "cell_type": "markdown",
   "metadata": {},
   "source": [
    "You can see that the pulse widens and distorts."
   ]
  },
  {
   "cell_type": "markdown",
   "metadata": {},
   "source": [
    "## Exercise\n",
    "\n",
    "1. (30 pts) Choose another material (not Sapphire) and calculate the frequency-dependent index of refraction for that material using Sellmeir coefficients.\n",
    "2. (60 pts) Simulate the propgation of a short pulse in this medium.  Try a few different pulse widths to see how the pulse spreads.  How many meters does it take for a 100 ps pulse to double in width?\n",
    "3. (10 pts) Using your simulation, calculate the group velocity of the pulse."
   ]
  },
  {
   "cell_type": "markdown",
   "metadata": {},
   "source": []
  }
 ],
 "metadata": {
  "kernelspec": {
   "display_name": "Python 3.10.8 ('nonlinoptics')",
   "language": "python",
   "name": "python3"
  },
  "language_info": {
   "codemirror_mode": {
    "name": "ipython",
    "version": 3
   },
   "file_extension": ".py",
   "mimetype": "text/x-python",
   "name": "python",
   "nbconvert_exporter": "python",
   "pygments_lexer": "ipython3",
   "version": "3.10.8"
  },
  "vscode": {
   "interpreter": {
    "hash": "32cef8dac44ce10285751f87f400ad1c7333d839691ab02151c07fc201603a42"
   }
  }
 },
 "nbformat": 4,
 "nbformat_minor": 4
}
