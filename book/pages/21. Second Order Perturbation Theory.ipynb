{
 "cells": [
  {
   "attachments": {},
   "cell_type": "markdown",
   "metadata": {},
   "source": [
    "# Second Order Perturbation Theory\n",
    "\n",
    "**Name:**\n",
    "\n",
    "**Total Points:** --/-- pts"
   ]
  },
  {
   "cell_type": "code",
   "execution_count": null,
   "metadata": {},
   "outputs": [],
   "source": [
    "### UNCOMMENT AND RUN THIS CELL IF USING GOOGLE COLAB\n",
    "# !pip install ipympl -q\n",
    "# from google.colab import output\n",
    "# output.enable_custom_widget_manager()"
   ]
  },
  {
   "cell_type": "markdown",
   "metadata": {},
   "source": [
    "\n",
    "In the last notebook we derived the transition amplitude for a two level atom, obtaining $a_1^{(1)}$ for the excited state of:  \n",
    "\n",
    "$$\n",
    "\\begin{align}\n",
    "a_1^{(1)} = \\frac{1}{\\hbar}\\sum_j \\mu_{10}^j \\left(\\frac{\\hat{E}_j e^{-j\\omega t}}{\\omega_{10} + \\omega} + \\frac{\\hat{E}^*_j e^{j\\omega t}}{\\omega_{10} - \\omega} \\right)\n",
    "\\end{align}\n",
    "$$\n",
    "\n",
    "In this notebook, we extend the analysis by including an additional energy level $a_3$.  Since levels 1 and 2 both function as an excited state in first order, we can write down the first order population in level 2 in the same way:\n",
    "\n",
    "$$\n",
    "\\begin{align}\n",
    "a_2^{(1)} = \\frac{1}{\\hbar}\\sum_j \\mu_{20}^j \\left(\\frac{\\hat{E}_j e^{-j\\omega t}}{\\omega_{20} + \\omega} + \\frac{\\hat{E}^*_j e^{j\\omega t}}{\\omega_{20} - \\omega} \\right)\n",
    "\\end{align}\n",
    "$$\n",
    "\n",
    "We can now plug these amplitudes in to find the second order corrections according to\n",
    "\n",
    "$$\n",
    "\\begin{align}\n",
    "\\dot{a_2}^{(1)} &= -j\\omega_{20}  + a_1^{(2)} -\\frac{j}{\\hbar}V_{12}a_2^{(1)}  \\\\\n",
    "&= -\\frac{j} {\\hbar} \\sum_k \\mu_{12}^k\\left( \\hat{E}_ke^{-j\\omega t }+ c.c. \\right)a_2^{(1)}\n",
    "\\end{align}\n",
    "$$\n",
    "\n",
    "which gives us"
   ]
  },
  {
   "attachments": {},
   "cell_type": "markdown",
   "metadata": {},
   "source": [
    "$$\n",
    "\\begin{align}\n",
    "a_1^{(2)} = \\frac{1}{\\hbar^2} \\sum_{j,k} \\mu_{12}^k\\mu_{20}^j\n",
    "\\left(\\frac{\\hat{E}_j\\hat{E}_k e^{j2\\omega t}}{\\left(\\omega_{10} + 2\\omega\\right)\\left(\\omega_{20} + \\omega\\right)} +  \n",
    "\\frac{\\hat{E}^*_j\\hat{E}^*_k e^{-j2\\omega t}}{\\left(\\omega_{10} + 2\\omega\\right)\\left(\\omega_{20} + \\omega\\right)}\\right)\n",
    "\\end{align}\n",
    "$$\n",
    "\n",
    "and we can find $a_2^{(2)}$ by exchanging indices 1 and 2."
   ]
  },
  {
   "attachments": {},
   "cell_type": "markdown",
   "metadata": {},
   "source": [
    "To make the connection to second harmonic generation and other 2nd order nonlinear processes, we need to find the resulting polarization.  This is\n",
    "\n",
    "$$\n",
    "\\begin{align}\n",
    "\\mathbf{P} = N\\langle \\mathbf{\\mu} \\rangle = N\\sum_{nl} \\mu_{nl}a_la_n^*\n",
    "\\end{align}\n",
    "$$\n",
    "\n",
    "The resultig polarization for second harmonic generation along direction $i$ is\n",
    "\n",
    "$$\n",
    "\\begin{align}\n",
    "P_i^{SHG} &= \\hat{P}_i e^{j2\\omega t} + c.c.  \\\\\n",
    "          &= N\\left(a_2^{(2)}a_0^{(0)*}\\mu_{02}^i  +\n",
    "          a_1^{(2)}a_0^{(0)*}\\mu_{01}^i + \n",
    "          a_1^{(1)}a_2^{(1)*}\\mu_{21}^i + c.c. \\right)\n",
    "\\end{align}\n",
    "$$"
   ]
  },
  {
   "attachments": {},
   "cell_type": "markdown",
   "metadata": {},
   "source": [
    "The main takeaway here is that the polarization is the sum of products of the population levels multiplied by the correspodning dipole matrix element.\n",
    "\n",
    "How do we interpret this result?  Let's take a look again at the first-order result for some help:\n",
    "\n",
    "$$\n",
    "\\begin{align}\n",
    "P_i = \\frac{N}{\\hbar}\\sum_j \\left(\\frac{\\mu_{01}^j\\mu_{10}^i}{\\tilde{\\omega}_{10}-\\omega} + \\frac{\\mu_{01}^i\\mu_{10}^j}{\\tilde{\\omega}_{10}+\\omega} \\right)\\hat{E}_je^{j\\omega t} + c.c.\n",
    "\\end{align}\n",
    "$$\n",
    "\n",
    "meaning that the linear susceptibility is\n",
    "\n",
    "$$\n",
    "\\begin{align}\n",
    "\\chi_{ij}^{(1)} = \\frac{N}{\\epsilon_0 \\hbar}\\sum_j \\left(\\frac{\\mu_{01}^j\\mu_{10}^i}{\\tilde{\\omega}_{10}-\\omega} + \\frac{\\mu_{01}^i\\mu_{10}^j}{\\tilde{\\omega}_{10}+\\omega} \\right)\n",
    "\\end{align}\n",
    "$$"
   ]
  },
  {
   "attachments": {
    "linear_susceptibility_quantum.png": {
     "image/png": "[encoded data removed]"
    }
   },
   "cell_type": "markdown",
   "metadata": {},
   "source": [
    "![linear_susceptibility_quantum.png](https://github.com/BYUCamachoLab/nonlinear-optics/blob/main/book/images/linear_susceptibility_quantum.png?raw=true)"
   ]
  },
  {
   "cell_type": "markdown",
   "metadata": {},
   "source": [
    "We can see from the figure that only the first term contributes substantially, since it represents photon transitions that are much closer to resonances.  We can similarly represent nonlinear processes as sums of dominant processes which are close to resonance.  We will take this up in the next notebook."
   ]
  },
  {
   "cell_type": "markdown",
   "metadata": {},
   "source": []
  }
 ],
 "metadata": {
  "kernelspec": {
   "display_name": "Python 3.10.6 ('meep')",
   "language": "python",
   "name": "python3"
  },
  "language_info": {
   "codemirror_mode": {
    "name": "ipython",
    "version": 3
   },
   "file_extension": ".py",
   "mimetype": "text/x-python",
   "name": "python",
   "nbconvert_exporter": "python",
   "pygments_lexer": "ipython3",
   "version": "3.10.6"
  },
  "vscode": {
   "interpreter": {
    "hash": "a7baaf37c103387cd4d30979f393fcab85a253fef4cbf63c49989c4eec66a791"
   }
  }
 },
 "nbformat": 4,
 "nbformat_minor": 4
}
