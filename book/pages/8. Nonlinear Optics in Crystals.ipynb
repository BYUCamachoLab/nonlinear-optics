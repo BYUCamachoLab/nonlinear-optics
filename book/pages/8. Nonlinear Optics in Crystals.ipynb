{
 "cells": [
  {
   "attachments": {},
   "cell_type": "markdown",
   "metadata": {},
   "source": [
    "# Nonlinear Optics in Crystals\n",
    "\n",
    "#### Name:\n",
    "\n",
    "#### Total Points: --/100 pts"
   ]
  },
  {
   "cell_type": "code",
   "execution_count": null,
   "metadata": {},
   "outputs": [],
   "source": [
    "### UNCOMMENT AND RUN THIS CELL IF USING GOOGLE COLAB\n",
    "# !pip install ipympl -q\n",
    "# from google.colab import output\n",
    "# output.enable_custom_widget_manager()"
   ]
  },
  {
   "cell_type": "markdown",
   "metadata": {},
   "source": [
    "\n",
    "In this notebook we build upon the crystal optics discussed in the last notebook, but now allow nonlinear optical interactions instead of just linear interactions.  The good news is you essentially know everything you need in order to do nonlinear optics in crystals.  The bad news is it can be quite tedious to keep track of all the fields and the crystals with their associated symmetries.  But it's not too bad, so here we go.\n",
    "\n",
    "Let's first write remind ourselves of something we already know.  The polarization $P_i$ in the direction $i = x,y,z$ resulting from electric fields pointing in direction $j,k,l ... = x,y,z$ may be written\n",
    "\n",
    "$$\n",
    "\\begin{align}\n",
    "P_i = \\epsilon_0\\left(\\sum_j\\chi_{ij}^{(1)}E_j + \\sum_{jk}\\chi_{ijk}^{(2)}E_jE_k + \\sum_{jkl}\\chi_{ijkl}^{(3)}E_jE_kE_l + \\dots \\right)\n",
    "\\end{align}\n",
    "$$\n",
    "\n",
    "When we derived the wave equation for nonlinear optics in previous notebooks, we always reached a point where we had a set of single-frequency wave equations, one for for each frequency component of the polarization.  In those cases we used subscripts, as in $E_n$ to denote an electric field with frequency $\\omega_n$.  But now we're using the subscripts for cartesion directions!  So we have to find a different way to specify a frequency.   It is common to put the frequency dependence in parenthesis in such a way that it denotes the nonlinear process being considered.  As an example, consider sum frequency generation, in which 3 frequencies $\\omega_3 = \\omega_1 + \\omega_2$ participate.  We write the nonlinear polarization in the $i$ direction at frequency $\\omega_3$ as  \n",
    "\n",
    "$$\n",
    "\\begin{align}\n",
    "P_i(\\omega_3) = \\epsilon_0\\sum_p\\sum_{jk}\\chi_{ijk}^{(2)}(\\omega_3; \\omega_1, \\omega_2)E_j(\\omega_1)E_k(\\omega_2)\n",
    "\\end{align}\n",
    "$$"
   ]
  },
  {
   "attachments": {},
   "cell_type": "markdown",
   "metadata": {},
   "source": [
    "Two new features appear in this representation that we havenen't seen before.  The first is the way we've included the frequency dependence of the susceptibility.  $\\chi_{ijk}^{(2)}(\\omega_3; \\omega_1, \\omega_2)$ should be read as \"The second order suceptibility leading to a polarization at $\\omega_3$ in which the field pointing in direction $E_j$ has frequency $\\omega_1$ and the field poionting in direction $E_k$ has frequency $\\omega_2$\".  The second new feature is the sum over $p$, which accounts for all possible permuations of $\\omega_1$ and $\\omega_3$.  This is necessary to account for all the possible photon pathways in an energy level diagram involving the same frequencies.  Since for sum frequency generation, the two possible pathways contribute equally to the polarization, we may simply multiply the polarization by a factor of two and drop the summation over $p$:\n",
    "\n",
    "$$\n",
    "\\begin{align}\n",
    "P_i(\\omega_3) = 2\\epsilon_0\\sum_{jk}\\chi_{ijk}^{(2)}(\\omega_3; \\omega_1, \\omega_2)E_j(\\omega_1)E_k(\\omega_2)\n",
    "\\end{align}\n",
    "$$\n",
    "\n",
    "In doing this we have assume *intrinisic permutation symmetry*, and the factor of two reminds us of the number of disctinct pathways in the resulting polarization. "
   ]
  },
  {
   "attachments": {},
   "cell_type": "markdown",
   "metadata": {},
   "source": [
    "Let's practice writing down the polarization this way for second harmonic generation and optical rectification:\n",
    "\n",
    "$$\n",
    "\\begin{align}\n",
    "P_i(2\\omega) = \\epsilon_0\\sum_{jk}\\chi_{ijk}^{(2)}(2\\omega; \\omega, \\omega)E_j(\\omega)E_k(\\omega) && \\text{SHG} \\\\\n",
    "P_i(0) = \\epsilon_0\\sum_{jk}\\chi_{ijk}^{(2)}(0; \\omega, -\\omega)E_j(\\omega)E_k^*(\\omega) && \\text{OR}\n",
    "\\end{align}\n",
    "$$\n",
    "\n",
    "In a lossless medium, we can invoke another powerful symmetry argument, *full permutation symmetry*.  As we learned in previous notebooks, the coupled wave equations must conserve energy. For sum frequency generation, this implies that \n",
    "\n",
    "$$\n",
    "\\begin{align}\n",
    "\\chi_{xyz}^{(2)}(\\omega_3; \\omega_1, \\omega_2) = \\chi_{yxz}^{(2)}(\\omega_1; \\omega_3, -\\omega_2) = \\chi_{zxy}^{(2)}(\\omega_2; \\omega_3, -\\omega_1)\n",
    "\\end{align}\n",
    "$$\n",
    "\n",
    "In general, the rule is that you can interchange any of the cartesian indices so long as you simultaneously exchange the corresponding frequency indices.  When the response of the medium is independent of the frequency (i.e. no dispersion), we can interchange the cartesian indices while leaving the frequency indices the same.  This is known as *Kleinman symmetry*."
   ]
  },
  {
   "attachments": {},
   "cell_type": "markdown",
   "metadata": {},
   "source": [
    "## Some notation\n",
    "\n",
    "We can use these symmetry principles to simplify our notation.  We have seen that the second order susceptibility tensor $\\chi_{ijk}^{(2)}$is in general a 27 element tensor, since $i,j$ and $k$ can each have one of three cartesian coordinates.  It is very common to write the full tensor in contracted notation by making use of the symmetry arguments above.  This is the same notation used to describe piezoelectric materials and was common before nonlinear optics became a distinct discipline.  The idea is that we really only have six ways the two fields $E_j$ and $E_k$ can combine in a second order process.  For example, for sum frequency generation we can write:\n",
    "\n",
    "$$\n",
    "\\begin{align}\n",
    "\\begin{bmatrix}\n",
    "  E_x(\\omega_1) E_x(\\omega_2) \\\\\n",
    "  E_y(\\omega_1) E_y(\\omega_2) \\\\\n",
    "  E_z(\\omega_1) E_z(\\omega_2) \\\\\n",
    "  E_y(\\omega_1)E_z(\\omega_2) + E_z(\\omega_1)E_y(\\omega_2)\\\\\n",
    "  E_x(\\omega_1)E_z(\\omega_2) + E_z(\\omega_1)E_x(\\omega_2)\\\\\n",
    "  E_x(\\omega_1)E_y(\\omega_2) + E_y(\\omega_1)E_x(\\omega_2)\\\\\n",
    "\\end{bmatrix}\n",
    "\\end{align}\n",
    "$$\n",
    "\n",
    "Where each $(jk)$ combination now gets a single index 1-6 and we have used kleinmaan symmetry "
   ]
  },
  {
   "attachments": {},
   "cell_type": "markdown",
   "metadata": {},
   "source": [
    "The first three terms 1-3 are cases with two photons with the same polarization, and the next three terms 4-6 are cases of two photons with opposite polarization.   The resulting material polarization can point in any one of three directions, and must include a contribution from each of these possible six combinations of $E_jE_k$.  We therefore need a $3\\times6=18$ element matrix to keep track of all the contributions.  We call each element in this matrix $d_{il}$ = $\\chi^{(2)}_{i(jk)}/2$ and write down the polarization for sum frequency generation as:\n",
    "\n",
    "$$\n",
    "\\begin{align}\n",
    "\\begin{bmatrix}\n",
    "  P_x(\\omega_3) \\\\\n",
    "  P_y(\\omega_3)\\\\\n",
    "  P_z(\\omega_3) \\\\\n",
    "\\end{bmatrix} = 2\\epsilon_0\n",
    "\\begin{bmatrix}\n",
    "d_{11} & d_{12} & d_{13}  & d_{14} & d_{15} & d_{16}\\\\\n",
    "d_{21} & d_{22} & d_{23}  & d_{24} & d_{25} & d_{26} \\\\\n",
    "d_{31} & d_{32} & d_{33}  & d_{34} & d_{35} & d_{36}\n",
    "\\end{bmatrix}\n",
    "\\begin{bmatrix}\n",
    "  E_x(\\omega_1) E_x(\\omega_2) \\\\\n",
    "  E_y(\\omega_1) E_y(\\omega_2) \\\\\n",
    "  E_z(\\omega_1) E_z(\\omega_2) \\\\\n",
    "  E_y(\\omega_1)E_z(\\omega_2) + E_z(\\omega_1)E_y(\\omega_2)\\\\\n",
    "  E_x(\\omega_1)E_z(\\omega_2) + E_z(\\omega_1)E_x(\\omega_2)\\\\\n",
    "  E_x(\\omega_1)E_y(\\omega_2) + E_y(\\omega_1)E_x(\\omega_2)\\\\\n",
    "\\end{bmatrix}\n",
    "\\end{align}\n",
    "$$"
   ]
  },
  {
   "cell_type": "markdown",
   "metadata": {},
   "source": [
    "When you look up the nonlinear susceptibility of a material, it will most often be given in this contracted notation."
   ]
  },
  {
   "attachments": {},
   "cell_type": "markdown",
   "metadata": {},
   "source": [
    "## Example 1: Second Harmonic Generation in KDP\n",
    "\n",
    "Let's now take another look at second harmonic generation using this new notation that can take into account all of the crystal symmetries and different optical polarizations. The first process we will consider is second harmonic generation in a crystal known as KDP (Potassium Dihydrogen Phosphate).  We can look up [KDP on the Crystallography Open Database](http://www.crystallography.net/cod/7020842.html) and import it into the Crystal package in python."
   ]
  },
  {
   "cell_type": "code",
   "execution_count": null,
   "metadata": {},
   "outputs": [],
   "source": [
    "from crystals import Crystal\n",
    "kdp = Crystal.from_cod(9007582)\n",
    "print(kdp.symmetry())\n",
    "print(kdp.lattice_system)"
   ]
  },
  {
   "attachments": {},
   "cell_type": "markdown",
   "metadata": {},
   "source": [
    "We see that KPD has a tetragonal lattice, meaning that it is a uniaxial crystal.  Let's first consider the case in which two ordinary waves combine at frequency $\\omega$ to produce an extraordinary wave at frequency $2\\omega$, described by the shorthand $o+o \\rightarrow e$.  In order to phase match this process, we need to orient the crystal at an angle $\\theta$ away from the $z$ axis such that the ordinary refractive index $n_x = n_y =n_o$ at frequency $\\omega$ is the same as the the refractive index of the extraordinary wave $\\tilde{n}_e(\\theta)$ at $2\\omega$.  KDP is a negative uniaxial crystal, so the value $\\tilde{n}_e(90) = n_e$ is a minimum and increases according to the index ellipsoid\n",
    "\n",
    "$$\n",
    "\\begin{align}\n",
    "{n}_0(\\omega) = \\tilde{n}_e(2\\omega) = \\left[\\frac{\\cos^2\\theta}{n_0^2(2\\omega)}  + \\frac{\\sin^2\\theta}{n_e^2(2\\omega)} \\right]^{-1/2}\n",
    "\\end{align}\n",
    "$$\n",
    "\n",
    "For a fundamental wavelength of 1064 nm (a very common laser frequency) $n_0(\\omega)= 1.4938$ and $n_e(\\omega)= 1.4705$.  At the doubled frequency $n_0(2\\omega) = 1.5124 $ and  $n_e(2\\omega) = 1.4705$.  Inserting these values into the index ellipsoid gives $\\theta = 41.21^{\\circ}$.\n",
    "\n",
    "But which value of $d_{il}$ do we use?  Looking at tables, we see that $d_{14}, d_{25}$ and $d_{36}$ are all nonzero.  Since the fundamental wave is *ordinary*, it is polarized in the $x-y$ plane, thus mixing $E_x$ and $E_y$ to produce a polarization (and hence a field) in some direction $i$.  $d_{14}$ produces a polarization in the $x$ direction by mixing fields in the $y$ and $z$ directions, so that's no good.  $d_{25}$ produces a polarization in the $y$ direction by mixing fields in the $z$ and $x$ direction, also no good.  $d_{36}$ produces a polarization in the $z$ direction by mixing fields in the $x$ and $y$ directions.  This is good, since our ordinary waves are in the $x-y$ plane.  But wait a minute...we want this process to *produce* a wave along the $e$ direction, which is *not* on the $z$ axis. Well, since we are orienting the $z$-axis of the crystal at an angle $\\theta$ with respect to the propagation direction, the polarization produced in $z$ will have some component along the extraordinary axis:  $P_e = P_z \\sin \\theta$.  It is this component that will produce a wave polarized orthogonal to the propagation direction.  But what about all the fields produced that are not transverse to the propogation direction?  It turns out these fields do not constructively interfere with the fields produced by neighboring atoms, so are not phase matched.\n",
    "\n",
    "Let's call $\\phi$ the angle in the $x-y$ plane away from the $x$ axis.  Now $E_x = E_0\\sin(\\phi)$ and $E_y = E_0\\cos(\\phi)$.  Mixing these two waves gives us a polarization along the $z$ axis of $P_z(2\\omega)\\sin\\theta$.  So we will obtain a nonlinear polarization oscillating at $2\\omega$ equal to\n",
    "\n",
    "$$\n",
    "\\begin{align}\n",
    "P_e(2\\omega) = 2\\epsilon_0 d_{36} E_0^2 \\sin\\theta\\sin\\phi\\cos\\phi\n",
    "\\end{align}\n",
    "$$\n",
    "\n",
    "To maximize the polarization, we must set $\\phi = 45^{\\circ}$."
   ]
  },
  {
   "attachments": {},
   "cell_type": "markdown",
   "metadata": {},
   "source": [
    "## Exercises\n",
    "\n",
    "1. (60 pts) Solve for amount of second harmonic generation for type I phase matching using the parameters outlined above in the notebook. (e.g. plug this nonlinear polarization into the ode from previous notebooks).  Plot your results, and animat as a function of $\\theta$, $\\phi$, and $E_0$.\n",
    "2. (40 pts) Re-calculate the nonlinear polarization for SHG using an ordinaray *and* extraordinary fundamental wave to produce an extraordinary second harmonic.  (This is called Type-II phase matching).  Make plots again."
   ]
  },
  {
   "attachments": {
    "phase_matching_geometry.png": {
     "image/png": "[encoded data removed]"
    }
   },
   "cell_type": "markdown",
   "metadata": {},
   "source": [
    "## Hints about deriving the coupled wave equation for Exercise 1:\n",
    "\n",
    "You will need to find the nonlinear polarization oscillating at $\\omega$ and $2\\omega$ along the ordinary and extraordinary axis.  Here's some notes on how to do that.\n",
    "\n",
    "To produce the second harmonic frequency, we have combined two waves $E_x(\\omega)$ and $E_y(\\omega)$ to produce another electric field $E_e(2\\omega)$. Importantly, $E_x$ and $E_y$ are just projections of a single wave $E_o$ with a polarization in the $x-y$ plane.\n",
    "\n",
    "Note that the second harmonic wave $E_e$ is perpindicular to $E_o$, but is not polarized in the $x-y$ plane!  Neither is it polarized in $z$!  Instead it is polarized in a direction perpindicular to $E_o$ *and the direction of propagation*, which is at some angle $\\theta$ relative to the $z$ axis.  Here's a diagram:\n",
    "\n",
    "![phase_matching_geometry.png](https://github.com/BYUCamachoLab/nonlinear-optics/blob/main/book/images/phase_matching_geometry.png?raw=true)\n"
   ]
  },
  {
   "attachments": {},
   "cell_type": "markdown",
   "metadata": {},
   "source": [
    "See if you can verify the following by looking at the diagram:\n",
    "   1. The ordinary electric field $E_o$ is in the $x-y$ crystal plane.\n",
    "   2. The extra-ordinary electric field $E_e$ is perpindicular to $E_o$, but is *not* in the $x-y$ plane. It is rotated at an angle $\\theta$ relative to the $x-y$ plane so that it is also perpindicular to $k_1$, the propogation direction.\n",
    "   3. We can write down the $xyz$ projections for all the fields:\n",
    "   $$\n",
    "   \\begin{align}\n",
    "   E_{ox} &= E_o\\sin \\phi  \\\\\n",
    "   E_{oy} &= E_o\\cos \\phi  \\\\\n",
    "   E_{oz} &= 0  \\\\\n",
    "   E_{ex} &= E_e\\cos \\phi \\cos\\theta  \\\\\n",
    "   E_{ey} &= E_e\\sin \\phi \\cos\\theta  \\\\\n",
    "   E_{ez} &= E_e \\sin \\theta  \\\\\n",
    "   \\end{align}\n",
    "   $$\n",
    "   4. We can write down the relevant material polarizations for the nonlinear ode as follows: \n",
    "   \n",
    "   a. The polarization in the same direction as $E_e$ oscillating at $2\\omega$:\n",
    "   $$\n",
    "   \\begin{align}\n",
    "   P_e(2\\omega) = P_z(2\\omega)\\sin \\theta =  2\\epsilon_0 d_{36}E_{ox}E_{oy}\\sin \\theta = 2\\epsilon_0 d_{36}E_0^2 \\sin \\phi \\cos \\phi \\sin \\theta\n",
    "   \\end{align}\n",
    "   $$\n",
    "\n",
    "   b. The polarization oscillating in the same direction as $E_o$ at $\\omega$.  Let's write this one out explicitly to get some practice.  Because of full permutation symmetry, the nonlinear coefficient $2d_{36} = \\chi^{(2)}_{zxy}(2\\omega, \\omega, \\omega)$ will remain unchanged if we permute the cartesian indices along with their associated frequency arguments.  This means that\n",
    "   $$\n",
    "   \\begin{align}\n",
    "   \\chi^{(2)}_{zxy}(2\\omega; \\omega, \\omega) = \\chi^{(2)}_{xzy}(\\omega; 2\\omega, \\omega) = \\chi^{(2)}_{yxz}(\\omega; \\omega, 2\\omega)\n",
    "   \\end{align}\n",
    "   $$\n",
    "   \n",
    "   This is convenient, since the polarization we need is \n",
    "   \n",
    "   $$\n",
    "   \\begin{align}\n",
    "   P_o(\\omega) &= P_x(\\omega)\\sin \\phi + P_y(\\omega)\\cos \\phi  \\\\\n",
    "               &= \\epsilon_0 \\left[\\chi^{(2)}_{xzy}(\\omega; 2\\omega, \\omega)E_z(2\\omega)E_y^*(\\omega)\\sin \\phi + \\chi^{(2)}_{yzx}(\\omega; 2\\omega, \\omega)E_z(2\\omega)E_x^*(\\omega)\\cos \\phi\\right]  \\\\\n",
    "               &= 2\\epsilon_0 d_{36} \\left[E_z(2\\omega)E_y^*(\\omega)\\sin \\phi + E_z(2\\omega)E_x^*(\\omega)\\cos \\phi\\right]  \\\\\n",
    "               &= 4\\epsilon_0 d_{36} E_e  E_o^*\\cos \\phi\\sin \\phi \\sin \\theta\n",
    "   \\end{align}\n",
    "   $$\n",
    "\n",
    "Note that the *effective* susceptibility $d_{eff} = d_{36} \\cos \\phi\\sin \\phi \\sin \\theta $ appears in both polarizations."
   ]
  },
  {
   "cell_type": "markdown",
   "metadata": {},
   "source": []
  }
 ],
 "metadata": {
  "kernelspec": {
   "display_name": "Python 3.10.8 ('nonlinoptics')",
   "language": "python",
   "name": "python3"
  },
  "language_info": {
   "codemirror_mode": {
    "name": "ipython",
    "version": 3
   },
   "file_extension": ".py",
   "mimetype": "text/x-python",
   "name": "python",
   "nbconvert_exporter": "python",
   "pygments_lexer": "ipython3",
   "version": "3.10.8"
  },
  "vscode": {
   "interpreter": {
    "hash": "32cef8dac44ce10285751f87f400ad1c7333d839691ab02151c07fc201603a42"
   }
  }
 },
 "nbformat": 4,
 "nbformat_minor": 4
}
