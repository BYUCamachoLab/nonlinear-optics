{
 "cells": [
  {
   "attachments": {},
   "cell_type": "markdown",
   "metadata": {},
   "source": [
    "(lectures:nonlinear-pulses-2)=\n",
    "# Combining Dispersion and Nonlinearity in Optical Pulse Propagation\n",
    "\n",
    "In the last two notebooks we have explored how pulses propagate in nonlinear media.  We first examined how dispersion affect pulse propogation, and found that we can model dispersion by transforming to the frequency domain and allowing each frequency component to accummulate a different phase.  We then examined how nonlinearity affects pulse propogation by studying how the intensity-dependent refractive index leads to self-phase modulation.  In this notebook, we will combine these two effects and look at how dipsersion and nonlinearity act simultaneously. \n",
    "\n",
    "In the last notebook, we derived the nonlinear wave equation that includes a time-varying amplitude:\n",
    "\n",
    "$$\n",
    "\\begin{align}\n",
    "\\frac{\\partial \\tilde{E}}{\\partial z} = \\frac{1}{2}j\\beta_2\\frac{\\partial^2 \\tilde{E}}{\\partial T^2} -j\\frac{\\omega}{2c\\epsilon_0n_0}\\left(1-\\frac{j}{\\omega}\\frac{\\partial}{\\partial T} \\right)\\tilde{P}^{NL}\n",
    "\\end{align}\n",
    "$$\n",
    "\n",
    "It is very often the case that the second term on the right (the time derivative of the polarization) is negligible, so we'll first consider a scenario in which is the case.  This simplifies the pulse propagation equation to\n",
    "\n",
    "$$\n",
    "\\begin{align}\n",
    "\\frac{\\partial \\tilde{E}}{\\partial z} = \\frac{1}{2}j\\beta_2\\frac{\\partial^2 \\tilde{E}}{\\partial T^2} -j\\frac{\\omega}{2c\\epsilon_0n_0}\\tilde{P}^{NL}\n",
    "\\end{align}\n",
    "$$"
   ]
  },
  {
   "attachments": {},
   "cell_type": "markdown",
   "metadata": {},
   "source": [
    "Let's start by modelling what happens when the nonlinear polarization results from the intensity-dependent refractive index.  In this case we can write\n",
    "\n",
    "$$\n",
    "\\begin{align}\n",
    "\\tilde{P}^{NL} = 3\\epsilon_0\\chi^{(3)}|E|^2 E\n",
    "\\end{align}\n",
    "$$\n",
    "\n",
    "so that we have\n",
    "\n",
    "$$\n",
    "\\begin{align}\n",
    "\\frac{\\partial \\tilde{E}}{\\partial z} &= \\frac{1}{2}j\\beta_2\\frac{\\partial^2 \\tilde{E}}{\\partial T^2} -j\\frac{\\omega}{2cn_0}3\\chi^{(3)}|E|^2 E \\nonumber \\\\\n",
    "\\frac{\\partial \\tilde{E}}{\\partial z} &= \\frac{1}{2}j\\beta_2\\frac{\\partial^2 \\tilde{E}}{\\partial T^2} -j\\gamma |E|^2E \\nonumber \\\\\n",
    "\\end{align}\n",
    "$$\n",
    "\n",
    "where $\\gamma =  3 \\omega \\chi^{(3)}/ 2cn_0 $.\n",
    "\n",
    "This equation is known as the nonlinear Schrodinger equation.  The first term on the right is responsible for dispersion and the second term on the right is responsible for the nonlinearity.  A very common (and simple)technique for solving this equation numerically is the Split-Step Fourier Method.  We will not go through the details of the implementation, but the idea is that we will step forward a distance $h$ in two steps.  In the first step we'll take care of dispersion by transforming to the frequency domain and letting each frequency component acquire its own phase shift.  In the second step, will transform back to the time domain and take a nonlinear step.  In practice, the frequency domain step is itself usually divided into two half-steps, one before and one after the time step.  This reduces numerical errors."
   ]
  },
  {
   "attachments": {},
   "cell_type": "markdown",
   "metadata": {},
   "source": [
    "Here is a simple implementation of the Split-Step Fourier method for self-phase modulation in a dispersive fiber.  We'll start with an initial pulse of the form\n",
    "\n",
    "$$\n",
    "\\begin{align}\n",
    "E_0 = A_0e^{-(1-jC)\\frac{t^2}{2\\tau^2}}\n",
    "\\end{align}\n",
    "$$\n",
    "\n",
    "This is the same as the pulse we used in the previous two notebooks with two modifications:\n",
    "\n",
    "1. We have included the possibility of a linear chirp in the initial pulse, parameterized by the constant $C$.\n",
    "2. We have divided out the carrier wave $e^{j\\omega_0 t}$.  \n",
    "\n",
    "We'll also be a little more careful to make our time and frequency arrays have a length of $2^N$ for more numerically efficient FFT's."
   ]
  },
  {
   "cell_type": "code",
   "execution_count": null,
   "metadata": {},
   "outputs": [],
   "source": [
    "import numpy as np\n",
    "from scipy.stats import multivariate_normal\n",
    "import matplotlib.pyplot as plt\n",
    "%matplotlib notebook\n",
    "import ipywidgets as ipw\n",
    "from scipy.constants import *\n"
   ]
  },
  {
   "cell_type": "code",
   "execution_count": null,
   "metadata": {},
   "outputs": [],
   "source": [
    "P0 = .00064*10  #input power in Watts\n",
    "A0 = np.sqrt(P0) #amplitude\n",
    "\n",
    "alpha = 0 #Fiber loss value in dB/km\n",
    "alph = alpha/4.343 # attenuation coefficient satisfying Pout = Pin*e^(-alpha*z)\n",
    "\n",
    "gamma = 0.003  # effective nonlinearity in units of rad/(W*m).  Typical value for silica fiber.\n",
    "#Note n_2 = gamma*Aeff*lambda/(2*pi), where Aeff is the effective core area of the fiber.\n",
    "#Also note that the nonlinear phase shift is phi = gamma*P*z\n",
    "\n",
    "tau = 50e-12  #initial pulse width\n",
    "C = -2  #input chirp parameter \n",
    "b2 = -20e-27  #  2nd order dispersion in units of s^2/m\n",
    "Ld = (tau**2)/np.absolute(b2)  # Dispersion length in meters (see equation 6.16 in New)\n",
    "\n",
    "N = 10  # power of 2 of time array length\n",
    "l = 2**N # number of elements in time array\n",
    "t = np.linspace(-50*tau, 50*tau, l)  # time array\n",
    "dt = t[1]-t[0]\n",
    "E0 = A0*np.exp(-((1+1j*(-C))/2.0)*(t/tau)**2)  # initial optical pulse\n",
    "\n",
    "\n",
    "\n",
    "#find FWHM length\n",
    "fwhml = np.nonzero(np.absolute(E0) > np.absolute(np.max(np.real(E0))/2.0))  \n",
    "fwhml = len(fwhml[0])\n",
    "\n",
    "\n",
    "# frequency array    \n",
    "domega = 2*pi/(dt*l)  # frequency discretization\n",
    "omega = domega*np.arange(-l/2, l/2, 1) # frequency array\n",
    "omega = np.fft.fftshift(omega) #shift frequency array to zero frequency\n",
    "    \n",
    "spectrum = np.fft.fft(E0) # fourier transform of time-domain pulse\n",
    "\n",
    "\n",
    "fig, (ax1, ax2) = plt.subplots(2)\n",
    "ax1.set_title('Initial Pulse')\n",
    "ax1.plot(t, np.real(E0))\n",
    "ax1.set_xlabel('Time [s]')\n",
    "ax1.set_ylabel('Amplitude')\n",
    "\n",
    "fig.subplots_adjust(hspace=.5)\n",
    "\n",
    "ax2.plot(omega, np.abs(spectrum))\n",
    "ax2.set_xlabel('Frequency [rad/s]')\n",
    "ax2.set_ylabel('Amplitude')\n",
    "\n",
    "\n",
    "plt.show()"
   ]
  },
  {
   "cell_type": "code",
   "execution_count": null,
   "metadata": {},
   "outputs": [],
   "source": [
    "#Split-step Fourier Method  (See Wikipedia Article on Split-Step Fourier for details)  \n",
    "def split_step_fourier(spectrum, z, h):  \n",
    "    for step in np.arange(h, z+1, h):\n",
    "        spectrum = spectrum*np.exp(-alph*(h/2.0)+1j*b2/2.0*omega**2*(h/2.0)) # dispersive half step \n",
    "        f = np.fft.ifft(spectrum) # transform back to time domain\n",
    "        f = f*np.exp(1j*gamma*np.abs(f)**2*h) # nonlinear propogation full step \n",
    "        spectrum = np.fft.fft(f) # transform back to frequency domain\n",
    "        spectrum = spectrum*np.exp(-alph*(h/2.0)+1j*b2/2.0*omega**2*(h/2.0)) #dispersive half step\n",
    "\n",
    "    f = np.fft.ifft(spectrum) #Fourier transform final pulse back to time domain\n",
    "    return f, spectrum"
   ]
  },
  {
   "cell_type": "code",
   "execution_count": null,
   "metadata": {},
   "outputs": [],
   "source": [
    "h = Ld/50 # step size\n",
    "spectrum = np.fft.fft(E0) # fourier transform of initial time-domain pulse\n",
    "\n",
    "def update(z = 0):\n",
    "    g, s = split_step_fourier(spectrum, z, h)\n",
    "    line0.set_ydata(np.real(g))\n",
    "    line1.set_ydata(np.abs(g))\n",
    "    line2.set_ydata(np.abs(s))\n",
    "\n",
    "fig, (ax1, ax2) = plt.subplots(2)\n",
    "dummy_f = np.zeros_like(t)\n",
    "line0, = ax1.plot(t, dummy_f, label = 'Time-Domain', color = 'red')\n",
    "line1, = ax1.plot(t, dummy_f, label = 'Time-Domain', color = 'black')\n",
    "line2, = ax2.plot(omega, dummy_f, label = 'Spectrum', color = 'blue')\n",
    "\n",
    "ax1.set_xlabel('Time [s]')\n",
    "ax1.set_ylabel('Amplitude')\n",
    "ax1.set_ylim(-(1.5*A0), 1.5*A0)\n",
    "\n",
    "fig.subplots_adjust(hspace=.5)\n",
    "\n",
    "ax2.set_xlabel('Frequency [rad/s]')\n",
    "ax2.set_ylabel('Amplitude')\n",
    "ax2.set_ylim(-0.05, 1.5)\n",
    "\n",
    "\n",
    "ipw.interact(update, z = (0, 10*Ld, 0.5*Ld))\n",
    "\n",
    "#plt.plot(z,I2)\n",
    "plt.show()    \n",
    "    "
   ]
  },
  {
   "cell_type": "markdown",
   "metadata": {},
   "source": [
    "## Exercises\n",
    "\n",
    "1. Track the FWHM of the pulse in the time domain at every h-step.  Hint: I've included above some code to calculate the length of the FWHM time array for the initial pulse.\n",
    "2. Calculate the pulse broadening ratio at every step.  This is the ratio of the FWHM to the original pulse.  Question:  why does the pulse get narrower at first when you start with a negative chirp?\n",
    "3. Explore what happens when you increase the input pulse power.  How does the pulse broadening and frequency content change?  Why?  At what power does the nonlinearity start to have as much effect as the dispersion?"
   ]
  },
  {
   "cell_type": "markdown",
   "metadata": {},
   "source": []
  }
 ],
 "metadata": {
  "kernelspec": {
   "display_name": "Python 3.10.6 ('meep')",
   "language": "python",
   "name": "python3"
  },
  "language_info": {
   "codemirror_mode": {
    "name": "ipython",
    "version": 3
   },
   "file_extension": ".py",
   "mimetype": "text/x-python",
   "name": "python",
   "nbconvert_exporter": "python",
   "pygments_lexer": "ipython3",
   "version": "3.10.6"
  },
  "vscode": {
   "interpreter": {
    "hash": "a7baaf37c103387cd4d30979f393fcab85a253fef4cbf63c49989c4eec66a791"
   }
  }
 },
 "nbformat": 4,
 "nbformat_minor": 4
}
