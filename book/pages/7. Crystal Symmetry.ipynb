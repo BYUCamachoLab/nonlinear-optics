{
 "cells": [
  {
   "attachments": {},
   "cell_type": "markdown",
   "metadata": {},
   "source": [
    "# Crystal Symmetry\n",
    "\n",
    "#### Name:\n",
    "\n",
    "#### Total Points: --/100 pts"
   ]
  },
  {
   "cell_type": "code",
   "execution_count": null,
   "metadata": {},
   "outputs": [],
   "source": [
    "### UNCOMMENT AND RUN THIS CELL IF USING GOOGLE COLAB\n",
    "# !pip install ipympl -q\n",
    "# from google.colab import output\n",
    "# output.enable_custom_widget_manager()"
   ]
  },
  {
   "cell_type": "markdown",
   "metadata": {},
   "source": [
    "\n",
    "In this notebook, we'll review some of the principles of light propagation in crystals.  In the next notebook, we'll apply these principles to nonlinear optics.\n",
    "\n",
    "We've already seen that when a cyrstal possesses inversion symmetry, no second-order nonlinear effects can be observed.\n",
    "\n",
    "Another important symmetry property of crystals is whether it is anisotropic.  An optically isotropic material interacts with light in the same way no matter which polarization the light is.  (Note the unfortunate double-meaning of polarization!)  In contrast, an anisotropic material assumes different properties for light with different polarizations.\n",
    "\n",
    "Mathematically, this means we need to describe the susceptibility in a way that takes into account.  We write the nonlinear polarization in direction $i$ as:\n",
    "\n",
    "$$\n",
    "\\begin{align}\n",
    "P_i = \\epsilon_0\\left(\\sum_j\\chi_{ij}^{(1)}E_j + \\sum_{jk}\\chi_{ijk}^{(2)}E_jE_k + \\sum_{jkl}\\chi_{ijkl}^{(3)}E_jE_kE_l + \\dots \\right)\n",
    "\\end{align}\n",
    "$$"
   ]
  },
  {
   "attachments": {},
   "cell_type": "markdown",
   "metadata": {},
   "source": [
    "What does this mean?  Well, each subscript corresponds to a cartesion coordinate direction in space (e.g. $x, y, z$).  The linear polarization in the $x$ direction, for example can be expanded as\n",
    "\n",
    "$$\n",
    "\\begin{align}\n",
    "P_x = \\epsilon_0\\left(\\chi_{xx}E_x + \\chi_{xy}E_y + \\chi_{xz}E_z \\right) \n",
    "\\end{align}\n",
    "$$\n",
    "\n",
    "indicating that the $P_x$ depends on all three components of the electric field $E_x, E_y$, and $E_z$.  This leads us to write the linear susceptibility in matrix form as\n",
    "\n",
    "$$\n",
    "\\begin{align}\n",
    "\\chi^{(1)} = \n",
    "\\begin{bmatrix}\n",
    "\\chi_{xx} & \\chi_{xy} & \\chi_{xz}\\\\\n",
    "\\chi_{yx} & \\chi_{yy} & \\chi_{yz} \\\\\n",
    "\\chi_{zx} & \\chi_{zy} & \\chi_{zz}\n",
    "\\end{bmatrix}\n",
    "\\end{align}\n",
    "$$\n",
    "\n",
    "making the linear polarization\n",
    "\n",
    "$$\n",
    "\\begin{align}\n",
    "P^{(1)} = \\epsilon_0\n",
    "\\begin{bmatrix}\n",
    "\\chi_{xx} & \\chi_{xy} & \\chi_{xz}\\\\\n",
    "\\chi_{yx} & \\chi_{yy} & \\chi_{yz} \\\\\n",
    "\\chi_{zx} & \\chi_{zy} & \\chi_{zz}\n",
    "\\end{bmatrix}\n",
    "\\begin{bmatrix}\n",
    "  E_x \\\\\n",
    "  E_y \\\\\n",
    "  E_z \\\\\n",
    "\\end{bmatrix}\n",
    "\\end{align}\n",
    "$$\n",
    "\n",
    "Likewise, the higher order polarization terms also involve susceptibility tensors.  For example, the second order polarization may be written as a $3\\times 3 \\times 3$ tensor (think of it as a cube with side length 3) with 27 components.  In general, each of these components is necessary to completely describe the second order nonlinear interaction.  In practice, however, the symmetry properties of the crystals require that most of those values be zero.\n",
    "\n",
    "Looking at the susceptibility this way allows us to make a mathematical argument for why materials with inversion symmetry cannot have a second order susceptibility.  From above, the second order polarization can be written:\n",
    "\n",
    "$$\n",
    "\\begin{align}\n",
    "P_i^{(2)} = \\sum_{jk}\\chi_{ijk}^{(2)}E_jE_k\n",
    "\\end{align}\n",
    "$$"
   ]
  },
  {
   "attachments": {},
   "cell_type": "markdown",
   "metadata": {},
   "source": [
    "If the material has inversion symmetry, then $P_i$ must change sign if all the field components change sign (e.g. the displacement of the electron cloud is in exactly the opposite direction with the same magnitude).  But if both $E_j$ and $E_k$ change signs, then $P_i^{(2)}$ remains unchanged.  Therefore, all elements of $\\chi_{ijk}^{(2)}$ are zero.  This same argument applies all even orders of the polarization.\n",
    "\n",
    "Crystals can be categorized by their symmetry properties, which can be classified by their 32 possible point-symmetry classes.  A point-symmetry class specifies a certain sequance of rotations, reflections, and inversions that leave the crystal strucutre unchanged, and is an entire topic on its own.  As an example, consider a crystal for which the $x$ and $y$ directions are equivalent, but the $z$ direction is diffrent.  This means that if we rotate the crytal by 90 degrees around the z axis, it looks the same.   Such a crystal would have the same optical response for an applied electric field in the $x$ or $y$ direction, so the linear suceptibility $\\chi^{(1)}_{zx}$ would be the same as $\\chi^{(1)}_{zy}$.  Likewise, the second order susceptibility components $\\chi^{(2)}_{zyy}$ would be the same as $\\chi^{(2)}_{zxx}$, and $\\chi^{(2)}_{zxy}$ would be equal to $\\chi^{(2)}_{zyx}$.  By this process, we can understand which elements of a nonlinear susceptibility will be equal and/or nonzero by looking at its symmetry classification.  Crystallographers have identified 7 classes of crystals.\n",
    "\n",
    "In python, we can easily look up the symmetry properties of any crystal and explore its properties usin the crystals package.  For example, say we wanted to explore diamond as an optical material.  We can load up it's crystal properties as follows:"
   ]
  },
  {
   "cell_type": "code",
   "execution_count": null,
   "metadata": {},
   "outputs": [],
   "source": [
    "from crystals import Crystal\n",
    "diamond = Crystal.from_database('diamond')\n",
    "diamond"
   ]
  },
  {
   "cell_type": "markdown",
   "metadata": {},
   "source": [
    "This creates a crystal object, which contains the number of atoms in a unit cell and their relative position.  This object also contains the space-group properties:"
   ]
  },
  {
   "cell_type": "code",
   "execution_count": null,
   "metadata": {},
   "outputs": [],
   "source": [
    "diamond.lattice_system"
   ]
  },
  {
   "cell_type": "markdown",
   "metadata": {},
   "source": [
    "This tells us that diamond belongs to the cubic system, which is also number 7 in the usual classification list.  Further more specific information is also available:"
   ]
  },
  {
   "cell_type": "code",
   "execution_count": null,
   "metadata": {},
   "outputs": [],
   "source": [
    "diamond.symmetry()"
   ]
  },
  {
   "cell_type": "markdown",
   "metadata": {},
   "source": [
    "This tells us that diamond is a face centered cubic crystal with m-3m point group. This means that it has a mirror plane (m) parllel to one axis, and and a 3-fold axis of symmetry and a mirror plane parallel to another axis.  Typically, most practitioners of nonlinear optics do no memorize all these point-groups, but use the classifications provided by crystallogrophers to select crystals for nonlinear optics experiments.\n",
    "\n",
    "We can also visualize the crystal structure using our diamond crystal object:"
   ]
  },
  {
   "cell_type": "code",
   "execution_count": null,
   "metadata": {},
   "outputs": [],
   "source": [
    "import numpy as np\n",
    "from mpl_toolkits.mplot3d import Axes3D \n",
    "import matplotlib.pyplot as plt \n",
    "from scipy.spatial.distance import pdist, squareform\n",
    "%matplotlib widget\n",
    "\n",
    "L = np.array(diamond.supercell(2,2,2))\n",
    "N = len(L)\n",
    "X = L[:,1:4]\n",
    "k =3\n",
    "\n",
    "# matrix of pairwise Euclidean distances\n",
    "distmat = squareform(pdist(X, 'euclidean'))\n",
    "\n",
    "# select the kNN for each datapoint\n",
    "neighbors = np.sort(np.argsort(distmat, axis=1)[:, 0:k])\n",
    "\n",
    "# get edge coordinates\n",
    "coordinates = np.zeros((N, k, 2, 3))\n",
    "for i in np.arange(N):\n",
    "    for j in np.arange(k):\n",
    "        coordinates[i, j, :, 0] = np.array([X[i,:][0], X[neighbors[i, j], :][0]])\n",
    "        coordinates[i, j, :, 1] = np.array([X[i,:][1], X[neighbors[i, j], :][1]])\n",
    "        coordinates[i, j, :, 2] = np.array([X[i,:][2], X[neighbors[i, j], :][2]])\n",
    "\n",
    "\n",
    "fig, ax = plt.subplots(1,1,figsize = (8, 8))\n",
    "#fig = plt.figure()\n",
    "ax = fig.add_subplot(111, projection='3d') \n",
    "ax.scatter(X[:,0], X[:,1], X[:,2], s = 100)\n",
    "for i in np.arange(N):\n",
    "    for j in np.arange(k):\n",
    "        ax.plot(coordinates[i,j,:,0], coordinates[i,j,:,1], coordinates[i,j,:,2], color = 'black') \n",
    "plt.show()"
   ]
  },
  {
   "attachments": {},
   "cell_type": "markdown",
   "metadata": {},
   "source": [
    "Ok, hopefully you are convinced that crystal structure is important to understanding the linear and nonlinear optical response of a material.  Let's now turn our attention to how light propogates in anisotropic media.  For the purposes of optics, this means that the atomic polarization will be differnt for differnt applied field components.\n",
    "\n",
    "Recall that when we derived the nonlinear wave equation from Maxwell's equation that the polarization $P$ came into play when we introduced the contituitive relation $\\tilde{\\mathbf{D}} = \\epsilon_0 \\tilde{\\mathbf{E}} + \\tilde{\\mathbf{P}}$.  Let's just consider linear materials for the moment.  In this case we can write\n",
    "\n",
    "$$\n",
    "\\begin{align}\n",
    "\\tilde{\\mathbf{D}} = \\epsilon_0\\mathbf{\\epsilon}\\tilde{\\mathbf{E}}\n",
    "\\end{align}\n",
    "$$\n",
    "\n",
    "where we now allow the dielectric constant $\\mathbf{\\epsilon}$ to depend on the polarizatio of the field.  W can write this in matrix form:\n",
    "\n",
    "$$\n",
    "\\begin{align}\n",
    "\\begin{bmatrix}\n",
    "  D_x \\\\\n",
    "  D_y \\\\\n",
    "  D_z \\\\\n",
    "\\end{bmatrix}\n",
    "= \\epsilon_0\n",
    "\\begin{bmatrix}\n",
    "\\epsilon_{xx} & \\epsilon_{xy} & \\epsilon_{xz}\\\\\n",
    "\\epsilon_{yx} & \\epsilon_{yy} & \\epsilon_{yz} \\\\\n",
    "\\epsilon_{zx} & \\epsilon_{zy} & \\epsilon_{zz}\n",
    "\\end{bmatrix}\n",
    "\\begin{bmatrix}\n",
    "  E_x \\\\\n",
    "  E_y \\\\\n",
    "  E_z \\\\\n",
    "\\end{bmatrix}\n",
    "\\end{align}\n",
    "$$\n",
    "\n",
    "It appears again that we have 9 individual dielectric constants!  But since the material is linear, we can simply use linear algebra to diagonalize this matrix and define a new coordinate system such that \n",
    "\n",
    "$$\n",
    "\\begin{align}\n",
    "\\begin{bmatrix}\n",
    "  D_x \\\\\n",
    "  D_y \\\\\n",
    "  D_z \\\\\n",
    "\\end{bmatrix}\n",
    "= \\epsilon_0\n",
    "\\begin{bmatrix}\n",
    "\\epsilon_{xx} & 0 & 0\\\\\n",
    "0 & \\epsilon_{yy} & 0 \\\\\n",
    "0& 0 & \\epsilon_{zz}\n",
    "\\end{bmatrix}\n",
    "\\begin{bmatrix}\n",
    "  E_x \\\\\n",
    "  E_y \\\\\n",
    "  E_z \\\\\n",
    "\\end{bmatrix}\n",
    "\\end{align}\n",
    "$$\n",
    "\n",
    "These new coordinates define the principal axis of the material.  If all three principal dielectric constants ($\\epsilon_{xx}, \\epsilon_{yy}, \\epsilon_{zz}$) are the same, we have an isotropic material.  If two of them are the same but one is different, the material is uniaxial, and if all three are different it is biaxial.\n",
    "\n",
    "Most commonly, researchers use uniaxial crystals.  In this case, the material will have two refractive indices and ordinary refractive index $n_o = n_x = n_y $ and an extraordinatry refractive index $n_e = n_z$"
   ]
  },
  {
   "attachments": {},
   "cell_type": "markdown",
   "metadata": {},
   "source": [
    "## Exercises\n",
    "\n",
    "1. (100 pts) Look up the 7 crystal classes (Triclinic, Monoclini, Orthorhombic, Tetragonal, Trigonal, Hexagonal, Cubic, Isotropic) and write their linear susceptibility tensors in matrix form indicating which elements are nonzero.  Indicate whether each class is an isotropic, uniaxial, or biaxial crystal, and why. Give an example of that crystal and an interesting fact about it."
   ]
  },
  {
   "cell_type": "markdown",
   "metadata": {},
   "source": [
    "\n",
    "### Example: Monoclinic\n",
    "\n",
    "$$\n",
    "\\begin{bmatrix}\n",
    "\\chi_{xx} & 0 & \\chi_{xz}\\\\\n",
    "0 & \\chi_{yy} & 0 \\\\\n",
    "\\chi_{zx} & 0 & \\chi_{zz}\n",
    "\\end{bmatrix}\n",
    "$$\n",
    "\n",
    "Monoclinic crystals are biaxial since there is not one particular direction that displays rotational symmetry.  In other words, diagonlizing the above matrix would always result in 3 different values along the diagonal.  An example is muscovite (mica), which shows strong birefrigence, and as a result \"glitters\" and is commonly used in cosmetics such as lipstick and nail polish to add luster.   \n",
    "\n",
    "2. For each of the example materials you choose, find the unit cell and symmetry properties using the Crystals package in Python.\n",
    "\n",
    "3. Choose one each of an isotropic, uniaxial, and biaxial crystal that are optically transparent.  Look up the principal indices of refraction and displace them in matrix form.\n",
    "\n",
    "4. Suppose you wanted to make a half-waveplate for light at 633 nm out of the uniaxial crystal you chose. What thickness would you choose?  Why?\n",
    "\n"
   ]
  }
 ],
 "metadata": {
  "kernelspec": {
   "display_name": "Python 3.10.8 ('nonlinoptics')",
   "language": "python",
   "name": "python3"
  },
  "language_info": {
   "codemirror_mode": {
    "name": "ipython",
    "version": 3
   },
   "file_extension": ".py",
   "mimetype": "text/x-python",
   "name": "python",
   "nbconvert_exporter": "python",
   "pygments_lexer": "ipython3",
   "version": "3.10.8"
  },
  "vscode": {
   "interpreter": {
    "hash": "32cef8dac44ce10285751f87f400ad1c7333d839691ab02151c07fc201603a42"
   }
  }
 },
 "nbformat": 4,
 "nbformat_minor": 4
}
