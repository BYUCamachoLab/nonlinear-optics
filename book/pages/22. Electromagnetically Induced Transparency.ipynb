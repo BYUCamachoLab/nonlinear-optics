{
 "cells": [
  {
   "attachments": {},
   "cell_type": "markdown",
   "metadata": {},
   "source": [
    "# Electromagnetically Induced Transparency\n",
    "\n",
    "**Name:**\n",
    "\n",
    "**Total Points:** --/-- pts"
   ]
  },
  {
   "cell_type": "code",
   "execution_count": null,
   "metadata": {},
   "outputs": [],
   "source": [
    "### UNCOMMENT AND RUN THIS CELL IF USING GOOGLE COLAB\n",
    "# !pip install ipympl -q\n",
    "# from google.colab import output\n",
    "# output.enable_custom_widget_manager()"
   ]
  },
  {
   "cell_type": "markdown",
   "metadata": {},
   "source": [
    "\n",
    "## Introduction to EIT\n",
    "\n",
    "Electromagnetically induced transparency (EIT) is one of the more recently discovered a nonlinear optical phenomena. It is a nonlinear process that allows an otherwise opaque medium to become transparent.  Here is an energy level diagram:\n",
    "\n",
    "<div>\n",
    "<img src=\"https://github.com/BYUCamachoLab/nonlinear-optics/blob/main/book/images/EIT.png?raw=true\" width=\"600px\"/>\n",
    "</div>\n",
    "In EIT, we consider a 3-level atom in what is known as the the $\\Lambda$ configuration.  A weak signal beam at frequency $\\omega_s$ connects states $|1\\rangle$ to state $|2\\rangle$, and is strongly absorbed as a result.  However, when a strong coupling beam is applied that connects states $|2\\rangle$ to state $|3\\rangle$, the absorption of the signal beam vanishes!  How can this be?\n",
    "\n",
    "To understand what's going on, we need to calculate the polarization of the medium oscillating at $\\omega_s$.  The key insight is to realize that all odd orders of the susceptibility contribute, and each term can be represented as an energy level diagram in which an electron starts in state $|1\\rangle$ and ends up in state $|2\\rangle$.  The linear susceptibility $\\chi^{(1)}(\\omega_s)$ corresponds to a single-photon transition from. $|1\\rangle$ to $|2\\rangle$. The third order susceptibility corresponds to the electron being promoted from $|1\\rangle$ to $|2\\rangle$, transitioning from $|2\\rangle$ to state $|3\\rangle$ via stimulated emission, and then being promoted again up to state $|3\\rangle$.  This same process repeats and is responsible for all odd orders participating.  This extra coupling to state $|3\\rangle$ is what provides the transparency."
   ]
  },
  {
   "attachments": {},
   "cell_type": "markdown",
   "metadata": {},
   "source": [
    "## Calculation of EIT Polarization\n",
    "\n",
    "The steady state polarization at the\n",
    "signal frequency may be found by summing the polarizations induced by all possible excitation pathways from state $|1\\rangle$ to state\n",
    "$|3\\rangle$, which can also be represented using double-sided Feynman\n",
    "diagrams as shown in the figure.   \n",
    "\n",
    "$$\n",
    "\\begin{align}\n",
    "P_{s} &=  N \\mu_{12}\\Omega_s\\frac{1}{\\tilde{\\Delta}_s}\n",
    "\\sum_{n=0}^\\infty \\left(\\frac{\\Omega_c^2}{4\\tilde{\\Delta}_s\\tilde{\\Delta}_R} \\right)^n  \\\\\n",
    "&= N \\mu_{12}\\Omega_s \\frac{1}{\\tilde{\\Delta}_s -\n",
    "\\frac{\\Omega_c^2}{\\tilde{4\\Delta}_R}}\n",
    "\\end{align}\n",
    "$$\n",
    "\n",
    "The quantities $\\tilde{\\Delta}_s = \\Delta_s -i\\Gamma/2$ and\n",
    "$\\tilde{\\Delta}_R = \\Delta_s- \\Delta_c - i\\gamma$ are the complex\n",
    "single photon and two-photon (Raman) detunings where $\\Gamma$ and\n",
    "$\\gamma$ represent the transverse excited and longitudinal\n",
    "ground-state decay rates respectively, $N$ is the atomic number\n",
    "density, and  $\\Omega_j = \\mathbf{E}_j \\cdot \\mathbf{\\mu}_j / \\hbar$ \n",
    "represents the Rabi frequency induced by electric field amplitude\n",
    "$E_j$ via the dipole matrix element $\\mu_j$."
   ]
  },
  {
   "cell_type": "markdown",
   "metadata": {},
   "source": [
    "Let's plot this:"
   ]
  },
  {
   "cell_type": "code",
   "execution_count": null,
   "metadata": {},
   "outputs": [],
   "source": [
    "import numpy as np\n",
    "from numpy import pi, sqrt, real, imag\n",
    "import matplotlib\n",
    "from matplotlib import pyplot as plt\n",
    "import ipywidgets as ipw\n",
    "from scipy.constants import *\n",
    "%matplotlib widget"
   ]
  },
  {
   "cell_type": "code",
   "execution_count": null,
   "metadata": {},
   "outputs": [],
   "source": [
    "Gam = 2*pi*6.07e6\n",
    "gam = Gam/10000\n",
    "Omegas = Gam/100\n",
    "Omegac = Gam/5\n",
    "deltac = 0*Gam/10\n",
    "deltas = np.linspace(-5*Gam, 5*Gam, 10000)\n",
    "Deltas = deltas - 1j*Gam/2\n",
    "DeltaR = deltas - deltac - 1j*gam\n",
    "\n",
    "\n",
    "\n",
    "P = 200/(Deltas - Omegac**2/(4*DeltaR))\n",
    "Es = 1\n",
    "\n",
    "ns = 1+ P/2/Es\n",
    "lam = 780e-9\n",
    "z = 1e-1\n",
    "A = np.exp(-2*pi*np.imag(ns)*z/lam)\n",
    "\n",
    "\n",
    "def update(Omegac = Gam/5):\n",
    "    P = 200/(Deltas - Omegac**2/(4*DeltaR))\n",
    "    ns = 1+ P/2/Es\n",
    "    A = np.exp(-2*pi*np.imag(ns)*z/lam)\n",
    "    line0.set_ydata(np.imag(ns)) \n",
    "    line1.set_ydata(np.real(ns)-1) \n",
    "    line2.set_ydata(A) \n",
    "    \n",
    "    \n",
    "fig, (ax1,ax2) = plt.subplots(2)\n",
    "dummy_n = np.zeros_like(deltas)\n",
    "line0, = ax1.plot(deltas, dummy_n, label = 'Real')\n",
    "line1, = ax1.plot(deltas, dummy_n, label = 'Imag')\n",
    "line2, = ax2.plot(deltas, dummy_n, label = 'Imag')\n",
    "\n",
    "ax1.set_ylabel('Refractive Index')\n",
    "ax2.set_ylabel('Absorption')\n",
    "ax1.set_ylim(-0.4e-5, 0.7e-5)\n",
    "ax2.set_ylim(0, 1.1)\n",
    "\n",
    "\n",
    "ipw.interact(update, Omegac = (0, 5*Gam, Gam/100))\n",
    "\n",
    "#plt.plot(z,I2)\n",
    "plt.show()"
   ]
  },
  {
   "attachments": {},
   "cell_type": "markdown",
   "metadata": {},
   "source": [
    "## Quantum Picture\n",
    "\n",
    "The Hamiltonian describing the atom-field interaction in the absence of damping may be written in the rotating frame as \n",
    "\n",
    "$$\n",
    "\\begin{equation}\n",
    "-\\frac{\\hbar}{2}\\left[ \\begin{array}{ccc}\n",
    "0 & \\Omega_s &  0 \\\\\n",
    "\\Omega_s & -2\\Delta_1 & \\Omega_c \\\\\n",
    "0 & \\Omega_c & -2(\\Delta_1 - \\Delta_3) \\end{array} \\right],\n",
    "\\end{equation}\n",
    "$$\n",
    "\n",
    "where $\\Omega_s$ and $\\Omega_c$ are the Rabi frequencies induced by the signal and coupling fields respectively, and $\\Delta_1$ and $\\Delta_3$ represent the signal and coupling field detunings from optical resonance.  When the two photon detuning is zero ($\\Delta_1=\\Delta_3$), we obtain eigenvalues of $\\{0, \\hbar/2(\\Delta_1 \\pm \\Omega_N)\\}$, where we have defined a normalizing Rabi frequency $\\Omega_N \\equiv \\sqrt{\\Omega_c^2+\\Omega_s^2}$. The vanishing energy eigenvalue corresponds to the case in which no atom field coupling exists and has an eigenvector of\n",
    "\n",
    "$$\n",
    "\\begin{equation}\n",
    "|-\\rangle =  \\frac{\\Omega_c}{\\Omega_N}|1\\rangle - \\frac{\\Omega_s}{\\Omega_N}|3\\rangle.\n",
    "\\end{equation}\n",
    "$$\n",
    "\n",
    "When the system is in this eigenstate, no absorption takes place and hence no spontaenous emission occurs.  For this reason, atoms prepared in this eigenstate are said to be in a dark state, invisible to radiation at the signal frequency.  "
   ]
  },
  {
   "attachments": {},
   "cell_type": "markdown",
   "metadata": {},
   "source": [
    "## Slow Light\n",
    "\n",
    "Recall that the group velocity of light is defined as\n",
    "\n",
    "$$\n",
    "\\begin{align}\n",
    "v_g &= \\frac{d\\omega}{dk}\n",
    "\\end{align}\n",
    "$$\n",
    "\n",
    "Since $k = n(\\omega)\\omega/c$, we can define a group index of \n",
    "\n",
    "$$\n",
    "\\begin{align}\n",
    "n_g = n(\\omega) + \\omega\\frac{dn(\\omega)}{d\\omega}\n",
    "\\end{align}\n",
    "$$\n",
    "\n",
    "That measures how slow a pulse of light will propagate."
   ]
  },
  {
   "cell_type": "code",
   "execution_count": null,
   "metadata": {},
   "outputs": [],
   "source": [
    "omegas = deltas +c/lam\n",
    "\n",
    "def update(Omegac = Gam/5):\n",
    "    P = 200/(Deltas - Omegac**2/(4*DeltaR))\n",
    "    ns = 1+ P/2/Es\n",
    "    A = np.exp(-2*pi*np.imag(ns)*z/lam)\n",
    "    ng = np.real(ns[0:-1]) + omegas[0:-1]*np.diff(ns)/np.diff(omegas)\n",
    "    line0.set_ydata(-ng) \n",
    "    \n",
    "    \n",
    "fig, ax = plt.subplots()\n",
    "dummy_n = np.zeros_like(deltas[0:-1])\n",
    "line0, = ax.plot(deltas[0:-1], dummy_n, label = 'vg')\n",
    "\n",
    "ax.set_ylim(-1000, 5000)\n",
    "\n",
    "\n",
    "\n",
    "ipw.interact(update, Omegac = (0, Gam, Gam/100))\n",
    "\n",
    "#plt.plot(z,I2)\n",
    "plt.show()"
   ]
  },
  {
   "cell_type": "markdown",
   "metadata": {},
   "source": [
    "One of my first papers used this effect to slow down images encoded in single photons:\n",
    "[All-Optical Delay of Images using Slow Light](https://journals.aps.org/prl/abstract/10.1103/PhysRevLett.98.043902)"
   ]
  },
  {
   "cell_type": "markdown",
   "metadata": {},
   "source": []
  }
 ],
 "metadata": {
  "kernelspec": {
   "display_name": "Python 3.10.8 ('nonlinoptics')",
   "language": "python",
   "name": "python3"
  },
  "language_info": {
   "codemirror_mode": {
    "name": "ipython",
    "version": 3
   },
   "file_extension": ".py",
   "mimetype": "text/x-python",
   "name": "python",
   "nbconvert_exporter": "python",
   "pygments_lexer": "ipython3",
   "version": "3.10.8"
  },
  "vscode": {
   "interpreter": {
    "hash": "32cef8dac44ce10285751f87f400ad1c7333d839691ab02151c07fc201603a42"
   }
  }
 },
 "nbformat": 4,
 "nbformat_minor": 4
}
