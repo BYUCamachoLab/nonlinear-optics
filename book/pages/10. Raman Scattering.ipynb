{
 "cells": [
  {
   "attachments": {
    "raman.png": {
     "image/png": "[encoded data removed]"
    },
    "raman_AS.png": {
     "image/png": "[encoded data removed]"
    },
    "raman_stimulated.png": {
     "image/png": "[encoded data removed]"
    }
   },
   "cell_type": "markdown",
   "metadata": {},
   "source": [
    "# Introduction to Raman Scattering\n",
    "\n",
    "#### Name:\n",
    "\n",
    "#### Total Points: --/100 pts"
   ]
  },
  {
   "cell_type": "code",
   "execution_count": null,
   "metadata": {},
   "outputs": [],
   "source": [
    "### UNCOMMENT AND RUN THIS CELL IF USING GOOGLE COLAB\n",
    "# !pip install ipympl -q\n",
    "# from google.colab import output\n",
    "# output.enable_custom_widget_manager()"
   ]
  },
  {
   "cell_type": "markdown",
   "metadata": {},
   "source": [
    "\n",
    "Raman scattering was first observed by C.V Raman in 1928.  Raman noticed that when he illuminated certain materials with light, he observed new frequency components in the scattered light.  Some of the light was shifted to lower frequencies, called Stokes waves.  Some of the light (much less!) was shifted to higher frequencies, called anti-Stokes waves.  Raman correctly hypothesized that molecular vibrations were responsible for the frequency shift.  In modern nonlinear optics terms, the input light at $\\omega$ was creating a linear polarization oscillating at $\\omega$.  However, molecules vibrating at $\\Omega$ were also creating a nonlinear polarization oscillating at $\\Omega$, which were acting as a source for new electric fields at $\\omega \\pm \\Omega$.\n",
    "\n",
    "We can visualize Raman scattering using an energy level diagram:\n",
    "\n",
    "![raman.png](https://github.com/BYUCamachoLab/nonlinear-optics/blob/main/book/images/raman.png?raw=true)\n",
    "\n",
    "Here we have a photon from a laser at frequency $\\omega_L$ being absorbed.  Then a photon at $\\omega_S = \\omega_L - \\Omega$ is emitted, bringing the energy stored in the atom down to the ground state plus $\\hbar \\Omega$, which is just the energy of a phonon vibrating with frequency $\\Omega$.  This means that some of the energy was used to create a photon at the stokes frequency $\\omega_S = \\omega_L - \\Omega$, and some was used to create at phonon at frequency $\\Omega$.\n",
    "\n",
    "If the incident laser power is weak, this process only happens occasionally, and by the time a new scattering process is initiated, the atom has re-thermalized back to the ground state.  However, some electrons are always in the state with energy $\\hbar \\Omega$ above the ground state. How many? a factor of $\\exp(-\\hbar \\Omega /kT)$ smaller than the ground state.  This is called the Boltzmann factor.  \n",
    "\n",
    "![raman_AS.png](https://github.com/BYUCamachoLab/nonlinear-optics/blob/main/book/images/raman_AS.png?raw=true)\n",
    "\n",
    "In this case, a photon is generated with frequency $\\omega_{AS} = \\omega_L + \\Omega$.\n",
    "\n",
    "However, if the incident laser power is high enough, then many stokes photons will be produced, and they can initiate *stimulated* scattering of additional photons at the stokes frequency.  The energy level diagram looks like this:\n",
    "\n",
    "![raman_stimulated.png](https://github.com/BYUCamachoLab/nonlinear-optics/blob/main/book/images/raman_stimulated.png?raw=true)\n",
    "\n"
   ]
  },
  {
   "cell_type": "markdown",
   "metadata": {},
   "source": [
    "What is the degeneracy factor for this process?  In other words, how many photon pathways are there?  Let's do a quick check using sympy:"
   ]
  },
  {
   "cell_type": "code",
   "execution_count": null,
   "metadata": {},
   "outputs": [],
   "source": [
    "from sympy import * #import sympy\n",
    "EL, ES = symbols('E_L, E_S')\n",
    "Esq = (EL + functions.conjugate(EL) + ES + functions.conjugate(ES))**3\n",
    "    \n",
    "simplify(Esq.expand())"
   ]
  },
  {
   "attachments": {},
   "cell_type": "markdown",
   "metadata": {},
   "source": [
    "The process we are looking for is $E_L E_L^* E_S$, which has a degeneracy of 6.  We can therefore write the nonlinear polarization as\n",
    "\n",
    "$$\n",
    "\\begin{align}\n",
    "\\tilde{P}(\\omega_S) = 6\\epsilon_0 \\chi^{(3)}(\\omega_S; \\omega_L, -\\omega_L, \\omega_S )|\\tilde{E}_L|^2 \\tilde{E}_S\n",
    "\\end{align}\n",
    "$$"
   ]
  },
  {
   "attachments": {},
   "cell_type": "markdown",
   "metadata": {},
   "source": [
    "As written, this is a parametric process that looks identical to the optical Kerr effect studied in the last notebook.  As such, it will only modify the refractive index a the stokes frequency, but nothing more.  However, often the process occurs near a material resonance (hence the solid horizontal lines in the energy level diagram).   In such cases, the susceptibility has a real and imaginary part to account for material absorption.   Inserting the polarization into the coupled wave equation, we get\n",
    "\n",
    "$$\n",
    "\\begin{align}\n",
    "\\frac{\\partial \\tilde{E}_S}{\\partial z}  &= j\\frac{\\omega_S}{ 2 \\epsilon_0 c n_S} P_S^{(NL)}(z)  \\\\\n",
    "&= \\frac{3\\omega_S}{ c n_S}  (\\chi'' - j\\chi')|\\tilde{E}_L|^2 \\tilde{E}_S \n",
    "\\end{align}\n",
    "$$\n",
    "\n",
    "where $\\chi'$ is the real part of the susceptibility and $\\chi''$ is the imaginary part."
   ]
  },
  {
   "attachments": {},
   "cell_type": "markdown",
   "metadata": {},
   "source": [
    "What is the effect of the imaginary part?  Well, consider how the polarization affects the derivative of the stokes wave ${\\partial \\tilde{E}_S}/{\\partial z}$.  If the polarization has no imaginary part, then we have something like ${\\partial \\tilde{E}_S}/{\\partial z} = jA\\tilde{E}_S$.  The solutions to this is just sinuoidal waves that neither grow or decay.  If, however, the polarization has an imaginary part, then we have something like ${\\partial \\tilde{E}_S}/{\\partial z} = A\\tilde{E}_S$, with a solution of exponential decay or growth.\n",
    "\n",
    "So material absorption can change a nonlinear affect from an intensity dependent refractive index to dramatic frequency conversion!\n",
    "\n",
    "The corresponding ode for the laser field is\n",
    "\n",
    "$$\n",
    "\\begin{align}\n",
    "\\frac{\\partial \\tilde{E}_L}{\\partial z}  &= j\\frac{\\omega_L}{ 2 \\epsilon_0 c n_L} P_L^{(NL)}(z)  \\\\\n",
    "&= \\frac{3\\omega_L}{ c n_L}  (-\\chi'' - j\\chi')|\\tilde{E}_S|^2 \\tilde{E}_L \n",
    "\\end{align}\n",
    "$$"
   ]
  },
  {
   "attachments": {},
   "cell_type": "markdown",
   "metadata": {},
   "source": [
    "Both of these differential equations can be re-written in terms of the optical intensities instead of the fields:\n",
    "\n",
    "$$\n",
    "\\begin{align}\n",
    "\\frac{\\partial I_S}{\\partial z} &= \\frac{3\\omega_S \\chi'' I_L}{c^2\\epsilon_0 n_L n_S}I_S = g_S I_S \\\\\n",
    "\\frac{\\partial I_L}{\\partial z} &= -\\frac{3\\omega_L \\chi''I_S}{c^2\\epsilon_0 n_L n_S}I_L  \n",
    "\\end{align}\n",
    "$$\n",
    "\n",
    "Notice that we have not worried about phase matching at all in this notebook.  Why?  Well, it turns out that stimulated Raman scattering is *automatically* phase-matched!  If we were to write down the phase mismatch term explicitly, we subtract the wavenumber of the resulting stokes wave from the sum of the wavenumbers in the polarization that generated that wave:\n",
    "\n",
    "$$\n",
    "\\begin{align}\n",
    "\\Delta k = k_S - (k_L - k_L + k_S) = 0\n",
    "\\end{align}\n",
    "$$\n",
    "\n",
    "So owing to the double-degeneracy of the two waves, the wavenumbers perfectly cancel.  This makes it possible to have the direction of the laser beam and the stokes beam be opposite one another, a process called backward stimulated Raman scattering."
   ]
  },
  {
   "cell_type": "markdown",
   "metadata": {},
   "source": [
    "Another interesting feature of stimulated Raman scattering is that the residual energy lost because of material absorption goes into acoustic waves generated insided the crystal.  Interestingly, these waves can be *coherent* and have been proposed to do coherent imaging at small scales, similar to ultrasound but with much smaller wavelengths.  A more complete description of SRS includes the acoustic waves in addition to the electromagnetic waves."
   ]
  },
  {
   "attachments": {},
   "cell_type": "markdown",
   "metadata": {},
   "source": [
    "## Exercises\n",
    "\n",
    "1. (40 pts) Find 2 applications of stimulated Raman scattering.  Include links to a journal article for each describing the application.\n",
    "2. (60 pts) In silica optical fibers, the Raman gain coefficient is about $10^{-13}$ m/W.  Starting with 8 kW of power at 1064 nm and a stokes frequency at 1116 nm,  at what distance is 90% transfered to the stokes frequency? "
   ]
  },
  {
   "cell_type": "markdown",
   "metadata": {},
   "source": []
  }
 ],
 "metadata": {
  "kernelspec": {
   "display_name": "Python 3.10.8 ('nonlinoptics')",
   "language": "python",
   "name": "python3"
  },
  "language_info": {
   "codemirror_mode": {
    "name": "ipython",
    "version": 3
   },
   "file_extension": ".py",
   "mimetype": "text/x-python",
   "name": "python",
   "nbconvert_exporter": "python",
   "pygments_lexer": "ipython3",
   "version": "3.10.8"
  },
  "vscode": {
   "interpreter": {
    "hash": "32cef8dac44ce10285751f87f400ad1c7333d839691ab02151c07fc201603a42"
   }
  }
 },
 "nbformat": 4,
 "nbformat_minor": 4
}
