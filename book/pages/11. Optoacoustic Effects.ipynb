{
 "cells": [
  {
   "attachments": {},
   "cell_type": "markdown",
   "metadata": {},
   "source": [
    "# Optoacoustic Effects\n",
    "\n",
    "**Name:**\n",
    "\n",
    "**Total Points:** --/100 pts"
   ]
  },
  {
   "cell_type": "code",
   "execution_count": null,
   "metadata": {},
   "outputs": [],
   "source": [
    "### UNCOMMENT AND RUN THIS CELL IF USING GOOGLE COLAB\n",
    "# !pip install ipympl -q\n",
    "# from google.colab import output\n",
    "# output.enable_custom_widget_manager()"
   ]
  },
  {
   "cell_type": "markdown",
   "metadata": {},
   "source": [
    "## Interaction of Acoustic Waves and Optical Waves\n",
    "\n",
    "How can light interact with acoustic waves?  Well, acoustic waves are just density variations within a material.   Since the material polarization (and hence refractive index) is proportional to the number of dipoles per unit volume, a density wave can also lead to a polarization wave.  \n",
    "\n",
    "But this is not the only way that energy can be exchanged between acoustic waves and optical waves.  There are a few more:\n",
    "\n",
    "1. **Photoelastic effect**:  Also known as the piezo-optic effect. In the photoelastic effect, the strain in the material induces a change in the dielectric constant.  This effect applies to materials of all crystal symmetries, and it's symmetry properties are identical to the third order susceptibility tensor.\n",
    "\n",
    "2. **Electrostriction**: Electrostriction occurs when atoms in a crystal lattice are displaced relative to one another when a field is applied.  Positive ions are shifted in one direction, and negative ions in another direction.  It varies as the square of the applied field, and the resulting displacements lead to a bulk effect of stress and/or strain within a material.  \n",
    "\n",
    "3. **Piezoelectric and inverse Piezoelectric effect**: These are like electrostriction, but only occur in non-centrosymmetric media.  Varies linearly with with applied field.\n",
    "\n",
    "4. **Thermo-optic effects**:  When a material aborbs light, it heats up and the refractive index changes.  If two waves interfere, the refractive index will change more at the anti-nodes, and can set up a refractive index wave.\n",
    "\n",
    "5. **Boundary Optomechanical Effects**:  If the dielectric properties change within a material, then acoustic vibrations can lead to changes in the dielectric properties at a particular location.\n",
    "\n",
    "Note that when we say acoustic waves, we mean waves that are much larger than the interatomic spacing between atoms in a crystal.  This is in contrast to the vibrations responsible for Raman scattering, which resulted directly from vibrations occurring at scales close to the lattice spacing.  Often the phonons produced by these two length scales are called *optical* phonons vs. *acoustic* phonons."
   ]
  },
  {
   "attachments": {},
   "cell_type": "markdown",
   "metadata": {},
   "source": [
    "## Frequecy Shifting of Light by Acoustic Waves\n",
    "\n",
    "Let's work out how an ultrasonic wave can induce a nonlinear polarization through electrostriction.  We'll then use that nonlinear polarization in the electric field wave equations to see some nonlinear optical effects.\n",
    "\n",
    "We start by writing the acoustic wave in the same form as the electric field waves.  We'll let $Q$ signify the mechanical displacement, $\\Omega_A$ the acoustic angular frequency, and $K_A$ the acoustic wavenumber:\n",
    "\n",
    "$$\n",
    "\\begin{align}\n",
    "Q = \\tilde{Q}e^{j\\left(K_Ay - j\\Omega_A t\\right)} + c.c.\n",
    "\\end{align}\n",
    "$$\n",
    "\n",
    "We have chosen this wave to travel in the $y$ direction.  It is somewhat difficult to measure the amplitude of internal displacements within a material, but often much easier to apply and measure a strain $S = \\partial Q/\\partial y$.  For this reason, the electrostrictive constant $\\gamma_e$ is given as a measure of the change in the dielectric constant as a function of strain:\n",
    "\n",
    "$$\n",
    "\\begin{align}\n",
    "\\delta\\epsilon = -\\gamma_e S\n",
    "\\end{align}\n",
    "$$\n",
    "\n",
    "The upshot is that we need to write our acoustic wave interms of the strain:\n",
    "\n",
    "$$\n",
    "\\begin{align}\n",
    "S = \\frac{\\partial Q}{\\partial y} = j K_A \\tilde{Q}e^{j\\left(K_Ay - \\Omega_A t\\right)} + c.c.\n",
    "\\end{align}\n",
    "$$\n",
    "\n",
    "So we conclude that the acoustic wave sets up dielectric constant wave:\n",
    "\n",
    "$$\n",
    "\\begin{align}\n",
    "\\delta \\epsilon = -\\gamma_e j K_A \\tilde{Q}e^{j\\left(K_Ay - \\Omega_A t\\right)} + c.c.\n",
    "\\end{align}\n",
    "$$"
   ]
  },
  {
   "attachments": {},
   "cell_type": "markdown",
   "metadata": {},
   "source": [
    "If a laser field is incident on this material, it will set up a polarization equal to $P = \\epsilon_0\\chi E = \\epsilon_0(\\delta \\epsilon - 1)E$.  The nonlinear polarization will therefore be\n",
    "\n",
    "$$\n",
    "\\begin{align}\n",
    "P^{(NL)} = \\epsilon_0\\delta\\epsilon E\n",
    "\\end{align}\n",
    "$$\n",
    "\n",
    "Writing the electric field of the laser as\n",
    "\n",
    "$$\n",
    "\\begin{align}\n",
    "E= \\tilde{E}_Le^{j\\left(k_Ly - \\omega_L t\\right)} + c.c.\n",
    "\\end{align}\n",
    "$$\n",
    "\n",
    "we obtain\n",
    "\n",
    "$$\n",
    "\\begin{align}\n",
    "P^{(NL)} &= \\epsilon_0\\left(-\\gamma_e j K_A \\tilde{Q}e^{j\\left(K_Ay - \\Omega_A t\\right)} + c.c.\\right)\\left( \\tilde{E}_Le^{j\\left(k_Ly - \\omega_L t\\right)} + c.c.\n",
    " \\right)  \\\\\n",
    " &= -\\epsilon_0\\gamma_e j K_A\\left( \\tilde{E}\\tilde{Q}e^{j\\left((k_l +K_A)y - (\\omega_L + \\Omega_A) t\\right)} + \\tilde{E}\\tilde{Q}^*e^{j\\left((k_l -K_A)y - (\\omega_L - \\Omega_A) t\\right)} + c.c. \\right)\n",
    " \\end{align}\n",
    "$$"
   ]
  },
  {
   "attachments": {},
   "cell_type": "markdown",
   "metadata": {},
   "source": [
    "We can thus see that the effect of the mechanical wave is to produce a polarization wave oscillating at frequencies $\\omega_L \\pm \\Omega_A$.  This is the same process used in acousto-optic modulators and deflectors. \n",
    "\n",
    "We actually need to generalize our nonliear polarization a bit to account for the fact that the direction of propagation of the light wave does not need to be in the same direction as the acoustic wave.  In fact, for most acousto-optic modulators the two direction are perpindicular!  We do this by writing the wavenumbers $k_L$ and $K_A$ as wave vectors $\\mathbf{k}_L$ and $\\mathbf{K}_A$ and the spatial coordinate $y$ as a spatial vector $\\mathbf{r}$.  Our nonlinear polarization becomes:\n",
    "\n",
    "$$\n",
    "\\begin{align}\n",
    "P^{(NL)}= -\\epsilon_0\\gamma_e j K_A\\left( \\tilde{E}\\tilde{Q}e^{j\\left((\\mathbf{k}_l + \\mathbf{K}_A)\\cdot \\mathbf{r} - (\\omega_L + \\Omega_A) t\\right)} + \\tilde{E}\\tilde{Q}^*e^{j\\left((\\mathbf{k}_l -\\mathbf{K}_A)\\cdot \\mathbf{r} - (\\omega_L - \\Omega_A) t\\right)} + c.c. \\right)\n",
    " \\end{align}\n",
    "$$"
   ]
  },
  {
   "attachments": {
    "acousto_optic_modulator.png": {
     "image/png": "[encoded data removed]"
    }
   },
   "cell_type": "markdown",
   "metadata": {},
   "source": [
    "Here's a diagram showing the addition of wave-vectors for a typical acousto-optic modulator:\n",
    "\n",
    "\n",
    "![acousto_optic_modulator.png](https://github.com/BYUCamachoLab/nonlinear-optics/blob/main/book/images/acousto_optic_modulator.png?raw=true)"
   ]
  },
  {
   "cell_type": "markdown",
   "metadata": {},
   "source": [
    "How large of a deflection might we expect to acheive?  Let's calculate:"
   ]
  },
  {
   "cell_type": "code",
   "execution_count": null,
   "metadata": {},
   "outputs": [],
   "source": [
    "import numpy as np\n",
    "from matplotlib import pyplot as plt\n",
    "lamL = 1e-6\n",
    "kL = 2*np.pi/lamL\n",
    "\n",
    "OmegaA = np.linspace(1, 10e9, 100)\n",
    "vA = 4000 #velocity of acoustic wave\n",
    "KA = OmegaA/vA\n",
    "\n",
    "\n",
    "def_angle = np.rad2deg(np.arctan(KA/kL))\n",
    "plt.plot(OmegaA/1e6, def_angle)\n",
    "plt.title('Acousto-Optic Modulator Deflection at Normal Incidence')\n",
    "plt.xlabel('Acoustic Frequency [MHz]')\n",
    "plt.ylabel('Defelction Angle [degrees]')\n",
    "plt.show()"
   ]
  },
  {
   "attachments": {},
   "cell_type": "markdown",
   "metadata": {},
   "source": [
    "So it looks like to get a deflection of more than a few degrees, we need to have an acoustic frequency of > 1 GHz.  But what about phase matching?\n",
    "\n",
    "The wavevector of the generated optical wave along the propogation direction of the laser is $k_L\\cos \\theta$, so the wavevector mismatch is\n",
    "\n",
    "$$\n",
    "\\begin{align}\n",
    "\\Delta k &= k_L - k_L \\cos \\theta  \\\\\n",
    " &\\approx k_L\\frac{\\theta^2}{2} \n",
    "\\end{align}\n",
    "$$\n",
    "\n",
    "This is typically a very short coherence length (microns), and acousto-optic modulators in which the crystal width is much smaller than the coherence length regime are said to operate in the Raman-Nath regime."
   ]
  },
  {
   "attachments": {},
   "cell_type": "markdown",
   "metadata": {},
   "source": [
    "## Exercises\n",
    "\n",
    "1. (50 pts) For a normal incident laser with parameter identical to the calculation above, plot the coherence length as a function of acoustic frequency.\n",
    "2. (50 pts) Phase matching can be acheived by angling the acoustic wave so that it is it is not quite perpedincular to the optical wave (see Fig. 5.9 in New).  Plot the rotation angle needed for perfect phase matching as a function of acoustic frequency."
   ]
  },
  {
   "cell_type": "markdown",
   "metadata": {},
   "source": []
  }
 ],
 "metadata": {
  "kernelspec": {
   "display_name": "Python 3.10.8 ('nonlinoptics')",
   "language": "python",
   "name": "python3"
  },
  "language_info": {
   "codemirror_mode": {
    "name": "ipython",
    "version": 3
   },
   "file_extension": ".py",
   "mimetype": "text/x-python",
   "name": "python",
   "nbconvert_exporter": "python",
   "pygments_lexer": "ipython3",
   "version": "3.10.8"
  },
  "vscode": {
   "interpreter": {
    "hash": "32cef8dac44ce10285751f87f400ad1c7333d839691ab02151c07fc201603a42"
   }
  }
 },
 "nbformat": 4,
 "nbformat_minor": 4
}
