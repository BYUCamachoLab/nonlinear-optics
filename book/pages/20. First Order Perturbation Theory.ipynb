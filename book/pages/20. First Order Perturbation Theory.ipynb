{
 "cells": [
  {
   "attachments": {},
   "cell_type": "markdown",
   "metadata": {},
   "source": [
    "# First Order Perturbation Theory\n",
    "\n",
    "**Name:**\n",
    "\n",
    "**Total Points:** --/100 pts\n",
    "\n",
    "**Extra Credit:** --/20 pts"
   ]
  },
  {
   "cell_type": "code",
   "execution_count": null,
   "metadata": {},
   "outputs": [],
   "source": [
    "### UNCOMMENT AND RUN THIS CELL IF USING GOOGLE COLAB\n",
    "# !pip install ipympl -q\n",
    "# from google.colab import output\n",
    "# output.enable_custom_widget_manager()"
   ]
  },
  {
   "cell_type": "markdown",
   "metadata": {},
   "source": [
    "\n",
    "\n",
    "Having now a brief introduction to the basics of quantum mechanics, we are ready to derive linear and nonlinear optical susceptibilities.  Let's start with the linear suceptibility $\\chi^{(1)}$.\n",
    "\n",
    "We begin with an approach base on Schrodinger's equation, and then show the same result using the density matrix, where we can include extra phenomena such as damping.\n",
    "\n",
    "Recall that Schrodinger's equation reads\n",
    "\n",
    "$$\n",
    "\\begin{align}\n",
    "\\frac{\\partial |\\psi \\rangle}{\\partial t} = \\frac{-j}{\\hbar}\\hat{H} | \\psi \\rangle\n",
    "\\end{align}\n",
    "$$\n",
    "\n",
    "and that when writing the Hamiltonian as $\\hat{H} = \\hat{H}_0 + V$ and expanding the state vector as a superposition of stationary states, we arrived at an equation for the amplitudes of each stationary state:\n",
    "\n",
    "$$\n",
    "\\begin{align}\n",
    "\\dot{b}_n = -\\frac{j}{\\hbar}\\sum_l V_{nl}e^{j\\omega_{nl}t} b_l\n",
    "\\end{align}\n",
    "$$\n",
    "\n",
    "To make the algebra a bit easier, let's define new amplitudes\n",
    "\n",
    "$$\n",
    "\\begin{align}\n",
    "a_n = b_ne^{-j\\omega_n t}\n",
    "\\end{align}\n",
    "$$\n",
    "\n",
    "so that our amplitude equation is\n",
    "\n",
    "$$\n",
    "\\begin{align}\n",
    "\\dot{a}_n = -j\\omega_n a_n  -\\frac{j}{\\hbar}\\sum_l V_{nl}a_l\n",
    "\\end{align}\n",
    "$$"
   ]
  },
  {
   "attachments": {},
   "cell_type": "markdown",
   "metadata": {},
   "source": [
    "## Two level atom\n",
    "\n",
    "For a two-level atom, we only have two amplitudes $a_0$ amd $a_1$, so the amplitude equations read  \n",
    "\n",
    "$$\n",
    "\\begin{align}\n",
    "\\dot{a}_0 = -j\\omega_{01} a_0  -\\frac{j}{\\hbar}\\left( V_{00}a_0 +  V_{01}a_1  \\right)  \\\\\n",
    "\\dot{a}_1 = -j\\omega_{10} a_1  -\\frac{j}{\\hbar}\\left( V_{10}a_0 +  V_{11}a_1  \\right) \n",
    "\\end{align}\n",
    "$$"
   ]
  },
  {
   "attachments": {},
   "cell_type": "markdown",
   "metadata": {},
   "source": [
    "We can solve these equations to successive iteration by letting \n",
    "\n",
    "$$\n",
    "\\begin{align}\n",
    "a_0 = a_0^{(0)} + a_0^{(1)} + a_0^{(2)} + a_0^{(3)} + \\cdots  \\\\\n",
    "a_1 = a_1^{(0)} + a_1^{(1)} + a_1^{(2)} + a_1^{(3)} + \\cdots  \\\\\n",
    "\\end{align}\n",
    "$$\n",
    "\n",
    "If we put the atom initially in the ground state, we have a zeroth order solution of $a_0^{(0)} = 1$ and $a_1^{(0)} = 0$, which we can plug in to the second equation to get\n",
    "\n",
    "$$\n",
    "\\begin{align}\n",
    "\\dot{a_1}^{(1)} = -j\\omega_{10}  + a_1^{(1)}   -\\frac{j}{\\hbar}V_{10}\n",
    "\\end{align}\n",
    "$$\n"
   ]
  },
  {
   "attachments": {},
   "cell_type": "markdown",
   "metadata": {},
   "source": [
    "We now apply an external field with $E_x, E_y, E_z$ components of the form:\n",
    "\n",
    "$$\n",
    "\\begin{align}\n",
    "E_j = \\hat{E}_je^{-j\\omega t} + c.c.\n",
    "\\end{align}\n",
    "$$\n",
    "\n",
    "This perturbs the atom, and adds some extra energy in the form of a dipole moment, which we add to the Hamiltonian: \n",
    "\n",
    "$$\n",
    "\\begin{align}\n",
    "\\hat{V} &= -e\\hat{\\mathbf{r}}\\cdot \\mathbf{E}  \\\\\n",
    "\\end{align}\n",
    "$$\n",
    "\n",
    "The matrix elements of the operator $\\hat{V}$, which describes how much the perturbation causes the once stationary states to overlap are\n",
    "\n",
    "$$\n",
    "\\begin{align}\n",
    "V_{ln} &= \\langle n|\\hat{V}|l \\rangle  \\\\\n",
    "       &= -\\langle n|e\\hat{\\mathbf{r}}\\cdot \\mathbf{E}|l \\rangle  \\\\\n",
    "       &= -eE_x\\langle n|\\hat{\\mathbf{x}}|l \\rangle - eE_y\\langle n|\\hat{\\mathbf{y}}|l \\rangle - eE_z\\langle n|\\hat{\\mathbf{z}}|l \\rangle \\\\\n",
    "       &= -\\mu_{nl}^xE_x - \\mu_{nl}^yE_y - \\mu_{nl}^zE_z \\\\\n",
    "\\end{align}\n",
    "$$"
   ]
  },
  {
   "cell_type": "markdown",
   "metadata": {},
   "source": [
    "Some visualization may help.  Below is an example wavefunction with it's projections onto the $x, y$ and $z$ planes. "
   ]
  },
  {
   "cell_type": "code",
   "execution_count": null,
   "metadata": {},
   "outputs": [],
   "source": [
    "from mpl_toolkits.mplot3d import axes3d\n",
    "import matplotlib.pyplot as plt\n",
    "from matplotlib import cm\n",
    "import numpy as np  #import NumPy package.  \n",
    "from scipy.constants import *  #get physical constants like pi and c\n",
    "import matplotlib as mpl  #plotting package\n",
    "import ipywidgets as ipw\n",
    "%matplotlib widget\n",
    "\n",
    "ax = plt.figure().add_subplot(projection='3d')\n",
    "X, Y, Z = axes3d.get_test_data(0.05)\n",
    "\n",
    "# Plot the 3D surface\n",
    "ax.plot_surface(X, Y, Z, rstride=8, cstride=8, alpha=0.3)\n",
    "\n",
    "# Plot projections of the contours for each dimension.  By choosing offsets\n",
    "# that match the appropriate axes limits, the projected contours will sit on\n",
    "# the 'walls' of the graph\n",
    "cset = ax.contour(X, Y, Z, zdir='z', offset=-100, cmap=cm.coolwarm)\n",
    "cset = ax.contour(X, Y, Z, zdir='x', offset=-40, cmap=cm.coolwarm)\n",
    "cset = ax.contour(X, Y, Z, zdir='y', offset=40, cmap=cm.coolwarm)\n",
    "\n",
    "ax.set_xlim(-40, 40)\n",
    "ax.set_ylim(-40, 40)\n",
    "ax.set_zlim(-100, 100)\n",
    "\n",
    "ax.set_xlabel('X')\n",
    "ax.set_ylabel('Y')\n",
    "ax.set_zlabel('Z')\n",
    "\n",
    "plt.show()"
   ]
  },
  {
   "attachments": {},
   "cell_type": "markdown",
   "metadata": {},
   "source": [
    "Ok, so now that we have the matrix elements $V_{nl}$, we can put them into the first order equation to obtain:\n",
    "\n",
    "$$\n",
    "\\begin{align}\n",
    "\\dot{a_1}^{(1)} &= -j\\omega_{10}  + a_1^{(1)}   -\\frac{j}{\\hbar}V_{10}  \\\\\n",
    "                &= -j\\omega_{10}  + a_1^{(1)}   -\\frac{j}{\\hbar}\\left( -\\mu_{10}^xE_x - \\mu_{10}^yE_y - \\mu_{10}^zE_z \\right)  \\\\\n",
    "                &= -j\\omega_{10}  + a_1^{(1)}   +\\frac{j}{\\hbar} \\sum_j \\mu_{10}^j\\hat{E}_je^{-j\\omega t}\\\\\n",
    "\\end{align}\n",
    "$$\n"
   ]
  },
  {
   "attachments": {},
   "cell_type": "markdown",
   "metadata": {},
   "source": [
    "This can be integrated to obtain\n",
    "\n",
    "$$\n",
    "\\begin{align}\n",
    "a_1^{(1)} = \\frac{1}{\\hbar}\\sum_j \\mu_{10}^j \\left(\\frac{\\hat{E}_j e^{-j\\omega t}}{\\omega_{10} + \\omega} + \\frac{\\hat{E}^*_j e^{j\\omega t}}{\\omega_{10} - \\omega} \\right)\n",
    "\\end{align}\n",
    "$$\n",
    "\n",
    "Using the density matrix approach, a similar result can be obtained:\n",
    "\n",
    "$$\n",
    "\\begin{align}\n",
    "\\rho_{10}^{(1)} = \\frac{1}{\\hbar}\\sum_j \\mu_{10}^j \\left(\\frac{\\hat{E}_j e^{-j\\omega t}}{\\tilde{\\omega}_{10} + \\omega} + \\frac{\\hat{E}^*_j e^{j\\omega t}}{\\tilde{\\omega}_{10} - \\omega} \\right)\n",
    "\\end{align}\n",
    "$$\n",
    "\n",
    "where $\\tilde{\\omega}_{10} = \\omega_{10} - j\\gamma_{10}$ is a complex frequency that includes a damping rate $\\gamma_{10}$.  The ability to include damping is one of the advantages of using the density matrix."
   ]
  },
  {
   "attachments": {},
   "cell_type": "markdown",
   "metadata": {},
   "source": [
    "## Exercises\n",
    "\n",
    "1. (40 pts) Use the atomic wavefuctions for two states in Hydrogen to calculate the dipole matrix element between these two states.\n",
    "2. (20 pts) How does this relate to the linear susceptibility?  See Eq. 8.34 in New.\n",
    "3. (20 pts Extra Credit) Find a paper in which the linear susceptibility of Hydrogen is calculated.  Does it use similar methods?\n",
    "4. (40 pts) Use the resulting dipole matrix element from (1) above and an applied field to simulate population transfer from the ground state to an excited state in time assuming these are the only two levels in the atom.  \n"
   ]
  },
  {
   "cell_type": "markdown",
   "metadata": {},
   "source": []
  }
 ],
 "metadata": {
  "kernelspec": {
   "display_name": "Python 3.10.8 ('nonlinoptics')",
   "language": "python",
   "name": "python3"
  },
  "language_info": {
   "codemirror_mode": {
    "name": "ipython",
    "version": 3
   },
   "file_extension": ".py",
   "mimetype": "text/x-python",
   "name": "python",
   "nbconvert_exporter": "python",
   "pygments_lexer": "ipython3",
   "version": "3.10.8"
  },
  "vscode": {
   "interpreter": {
    "hash": "32cef8dac44ce10285751f87f400ad1c7333d839691ab02151c07fc201603a42"
   }
  }
 },
 "nbformat": 4,
 "nbformat_minor": 4
}
